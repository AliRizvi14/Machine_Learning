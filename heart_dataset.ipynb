{
  "nbformat": 4,
  "nbformat_minor": 0,
  "metadata": {
    "colab": {
      "name": "heart_dataset.ipynb",
      "provenance": [],
      "collapsed_sections": [],
      "authorship_tag": "ABX9TyN0uv40L0YA1UKK7XOv7R0p",
      "include_colab_link": true
    },
    "kernelspec": {
      "name": "python3",
      "display_name": "Python 3"
    },
    "language_info": {
      "name": "python"
    }
  },
  "cells": [
    {
      "cell_type": "markdown",
      "metadata": {
        "id": "view-in-github",
        "colab_type": "text"
      },
      "source": [
        "<a href=\"https://colab.research.google.com/github/AliRizvi14/Machine_Learning/blob/main/heart_dataset.ipynb\" target=\"_parent\"><img src=\"https://colab.research.google.com/assets/colab-badge.svg\" alt=\"Open In Colab\"/></a>"
      ]
    },
    {
      "cell_type": "code",
      "source": [
        "import pandas as pd\n",
        "from sklearn.preprocessing import LabelEncoder, StandardScaler, OneHotEncoder\n",
        "import matplotlib as mt\n",
        "from sklearn.model_selection import cross_validate\n",
        "from sklearn.ensemble import RandomForestRegressor, GradientBoostingRegressor, RandomForestClassifier, ExtraTreesClassifier\n",
        "from sklearn.model_selection import train_test_split, StratifiedShuffleSplit, cross_val_score,StratifiedKFold\n",
        "from sklearn.metrics import make_scorer, confusion_matrix, balanced_accuracy_score\n",
        "from sklearn.metrics import f1_score as f1\n",
        "from sklearn.dummy import DummyRegressor, DummyClassifier\n",
        "from sklearn.metrics import mean_squared_error as mse\n",
        "from sklearn.metrics import mean_absolute_error as mae\n",
        "from sklearn.metrics import accuracy_score as acc\n",
        "from sklearn.metrics import f1_score as f1\n",
        "from collections import Counter\n",
        "from sklearn.datasets import load_iris\n",
        "from imblearn.datasets import make_imbalance\n",
        "from yellowbrick.cluster import KElbowVisualizer, SilhouetteVisualizer\n",
        "from matplotlib import pyplot as plt\n",
        "from sklearn.utils.extmath import randomized_range_finder\n",
        "from sklearn.model_selection import StratifiedKFold\n",
        "from sklearn.metrics import accuracy_score, classification_report,f1_score\n",
        "from sklearn.ensemble import RandomForestClassifier\n",
        "from sklearn.cluster import KMeans\n",
        "import numpy as np"
      ],
      "metadata": {
        "id": "Ji2DVOR0dR6S"
      },
      "execution_count": null,
      "outputs": []
    },
    {
      "cell_type": "code",
      "source": [
        "df=pd.read_csv('https://raw.githubusercontent.com/AliRizvi14/CE888_workspace/main/heart.csv')\n",
        "df"
      ],
      "metadata": {
        "id": "EcEsP6fMdR3q",
        "colab": {
          "base_uri": "https://localhost:8080/",
          "height": 424
        },
        "outputId": "637a9344-78d3-48e4-b32c-8852d515fbdf"
      },
      "execution_count": null,
      "outputs": [
        {
          "output_type": "execute_result",
          "data": {
            "text/plain": [
              "     age  sex  cp  trestbps  chol  fbs  restecg  thalach  exang  oldpeak  \\\n",
              "0     63    1   3       145   233    1        0      150      0      2.3   \n",
              "1     37    1   2       130   250    0        1      187      0      3.5   \n",
              "2     41    0   1       130   204    0        0      172      0      1.4   \n",
              "3     56    1   1       120   236    0        1      178      0      0.8   \n",
              "4     57    0   0       120   354    0        1      163      1      0.6   \n",
              "..   ...  ...  ..       ...   ...  ...      ...      ...    ...      ...   \n",
              "298   57    0   0       140   241    0        1      123      1      0.2   \n",
              "299   45    1   3       110   264    0        1      132      0      1.2   \n",
              "300   68    1   0       144   193    1        1      141      0      3.4   \n",
              "301   57    1   0       130   131    0        1      115      1      1.2   \n",
              "302   57    0   1       130   236    0        0      174      0      0.0   \n",
              "\n",
              "     slope  ca  thal  target  \n",
              "0        0   0     1       1  \n",
              "1        0   0     2       1  \n",
              "2        2   0     2       1  \n",
              "3        2   0     2       1  \n",
              "4        2   0     2       1  \n",
              "..     ...  ..   ...     ...  \n",
              "298      1   0     3       0  \n",
              "299      1   0     3       0  \n",
              "300      1   2     3       0  \n",
              "301      1   1     3       0  \n",
              "302      1   1     2       0  \n",
              "\n",
              "[303 rows x 14 columns]"
            ],
            "text/html": [
              "\n",
              "  <div id=\"df-3e073de0-9cf5-4c92-b697-1cfb4b5e1b3f\">\n",
              "    <div class=\"colab-df-container\">\n",
              "      <div>\n",
              "<style scoped>\n",
              "    .dataframe tbody tr th:only-of-type {\n",
              "        vertical-align: middle;\n",
              "    }\n",
              "\n",
              "    .dataframe tbody tr th {\n",
              "        vertical-align: top;\n",
              "    }\n",
              "\n",
              "    .dataframe thead th {\n",
              "        text-align: right;\n",
              "    }\n",
              "</style>\n",
              "<table border=\"1\" class=\"dataframe\">\n",
              "  <thead>\n",
              "    <tr style=\"text-align: right;\">\n",
              "      <th></th>\n",
              "      <th>age</th>\n",
              "      <th>sex</th>\n",
              "      <th>cp</th>\n",
              "      <th>trestbps</th>\n",
              "      <th>chol</th>\n",
              "      <th>fbs</th>\n",
              "      <th>restecg</th>\n",
              "      <th>thalach</th>\n",
              "      <th>exang</th>\n",
              "      <th>oldpeak</th>\n",
              "      <th>slope</th>\n",
              "      <th>ca</th>\n",
              "      <th>thal</th>\n",
              "      <th>target</th>\n",
              "    </tr>\n",
              "  </thead>\n",
              "  <tbody>\n",
              "    <tr>\n",
              "      <th>0</th>\n",
              "      <td>63</td>\n",
              "      <td>1</td>\n",
              "      <td>3</td>\n",
              "      <td>145</td>\n",
              "      <td>233</td>\n",
              "      <td>1</td>\n",
              "      <td>0</td>\n",
              "      <td>150</td>\n",
              "      <td>0</td>\n",
              "      <td>2.3</td>\n",
              "      <td>0</td>\n",
              "      <td>0</td>\n",
              "      <td>1</td>\n",
              "      <td>1</td>\n",
              "    </tr>\n",
              "    <tr>\n",
              "      <th>1</th>\n",
              "      <td>37</td>\n",
              "      <td>1</td>\n",
              "      <td>2</td>\n",
              "      <td>130</td>\n",
              "      <td>250</td>\n",
              "      <td>0</td>\n",
              "      <td>1</td>\n",
              "      <td>187</td>\n",
              "      <td>0</td>\n",
              "      <td>3.5</td>\n",
              "      <td>0</td>\n",
              "      <td>0</td>\n",
              "      <td>2</td>\n",
              "      <td>1</td>\n",
              "    </tr>\n",
              "    <tr>\n",
              "      <th>2</th>\n",
              "      <td>41</td>\n",
              "      <td>0</td>\n",
              "      <td>1</td>\n",
              "      <td>130</td>\n",
              "      <td>204</td>\n",
              "      <td>0</td>\n",
              "      <td>0</td>\n",
              "      <td>172</td>\n",
              "      <td>0</td>\n",
              "      <td>1.4</td>\n",
              "      <td>2</td>\n",
              "      <td>0</td>\n",
              "      <td>2</td>\n",
              "      <td>1</td>\n",
              "    </tr>\n",
              "    <tr>\n",
              "      <th>3</th>\n",
              "      <td>56</td>\n",
              "      <td>1</td>\n",
              "      <td>1</td>\n",
              "      <td>120</td>\n",
              "      <td>236</td>\n",
              "      <td>0</td>\n",
              "      <td>1</td>\n",
              "      <td>178</td>\n",
              "      <td>0</td>\n",
              "      <td>0.8</td>\n",
              "      <td>2</td>\n",
              "      <td>0</td>\n",
              "      <td>2</td>\n",
              "      <td>1</td>\n",
              "    </tr>\n",
              "    <tr>\n",
              "      <th>4</th>\n",
              "      <td>57</td>\n",
              "      <td>0</td>\n",
              "      <td>0</td>\n",
              "      <td>120</td>\n",
              "      <td>354</td>\n",
              "      <td>0</td>\n",
              "      <td>1</td>\n",
              "      <td>163</td>\n",
              "      <td>1</td>\n",
              "      <td>0.6</td>\n",
              "      <td>2</td>\n",
              "      <td>0</td>\n",
              "      <td>2</td>\n",
              "      <td>1</td>\n",
              "    </tr>\n",
              "    <tr>\n",
              "      <th>...</th>\n",
              "      <td>...</td>\n",
              "      <td>...</td>\n",
              "      <td>...</td>\n",
              "      <td>...</td>\n",
              "      <td>...</td>\n",
              "      <td>...</td>\n",
              "      <td>...</td>\n",
              "      <td>...</td>\n",
              "      <td>...</td>\n",
              "      <td>...</td>\n",
              "      <td>...</td>\n",
              "      <td>...</td>\n",
              "      <td>...</td>\n",
              "      <td>...</td>\n",
              "    </tr>\n",
              "    <tr>\n",
              "      <th>298</th>\n",
              "      <td>57</td>\n",
              "      <td>0</td>\n",
              "      <td>0</td>\n",
              "      <td>140</td>\n",
              "      <td>241</td>\n",
              "      <td>0</td>\n",
              "      <td>1</td>\n",
              "      <td>123</td>\n",
              "      <td>1</td>\n",
              "      <td>0.2</td>\n",
              "      <td>1</td>\n",
              "      <td>0</td>\n",
              "      <td>3</td>\n",
              "      <td>0</td>\n",
              "    </tr>\n",
              "    <tr>\n",
              "      <th>299</th>\n",
              "      <td>45</td>\n",
              "      <td>1</td>\n",
              "      <td>3</td>\n",
              "      <td>110</td>\n",
              "      <td>264</td>\n",
              "      <td>0</td>\n",
              "      <td>1</td>\n",
              "      <td>132</td>\n",
              "      <td>0</td>\n",
              "      <td>1.2</td>\n",
              "      <td>1</td>\n",
              "      <td>0</td>\n",
              "      <td>3</td>\n",
              "      <td>0</td>\n",
              "    </tr>\n",
              "    <tr>\n",
              "      <th>300</th>\n",
              "      <td>68</td>\n",
              "      <td>1</td>\n",
              "      <td>0</td>\n",
              "      <td>144</td>\n",
              "      <td>193</td>\n",
              "      <td>1</td>\n",
              "      <td>1</td>\n",
              "      <td>141</td>\n",
              "      <td>0</td>\n",
              "      <td>3.4</td>\n",
              "      <td>1</td>\n",
              "      <td>2</td>\n",
              "      <td>3</td>\n",
              "      <td>0</td>\n",
              "    </tr>\n",
              "    <tr>\n",
              "      <th>301</th>\n",
              "      <td>57</td>\n",
              "      <td>1</td>\n",
              "      <td>0</td>\n",
              "      <td>130</td>\n",
              "      <td>131</td>\n",
              "      <td>0</td>\n",
              "      <td>1</td>\n",
              "      <td>115</td>\n",
              "      <td>1</td>\n",
              "      <td>1.2</td>\n",
              "      <td>1</td>\n",
              "      <td>1</td>\n",
              "      <td>3</td>\n",
              "      <td>0</td>\n",
              "    </tr>\n",
              "    <tr>\n",
              "      <th>302</th>\n",
              "      <td>57</td>\n",
              "      <td>0</td>\n",
              "      <td>1</td>\n",
              "      <td>130</td>\n",
              "      <td>236</td>\n",
              "      <td>0</td>\n",
              "      <td>0</td>\n",
              "      <td>174</td>\n",
              "      <td>0</td>\n",
              "      <td>0.0</td>\n",
              "      <td>1</td>\n",
              "      <td>1</td>\n",
              "      <td>2</td>\n",
              "      <td>0</td>\n",
              "    </tr>\n",
              "  </tbody>\n",
              "</table>\n",
              "<p>303 rows × 14 columns</p>\n",
              "</div>\n",
              "      <button class=\"colab-df-convert\" onclick=\"convertToInteractive('df-3e073de0-9cf5-4c92-b697-1cfb4b5e1b3f')\"\n",
              "              title=\"Convert this dataframe to an interactive table.\"\n",
              "              style=\"display:none;\">\n",
              "        \n",
              "  <svg xmlns=\"http://www.w3.org/2000/svg\" height=\"24px\"viewBox=\"0 0 24 24\"\n",
              "       width=\"24px\">\n",
              "    <path d=\"M0 0h24v24H0V0z\" fill=\"none\"/>\n",
              "    <path d=\"M18.56 5.44l.94 2.06.94-2.06 2.06-.94-2.06-.94-.94-2.06-.94 2.06-2.06.94zm-11 1L8.5 8.5l.94-2.06 2.06-.94-2.06-.94L8.5 2.5l-.94 2.06-2.06.94zm10 10l.94 2.06.94-2.06 2.06-.94-2.06-.94-.94-2.06-.94 2.06-2.06.94z\"/><path d=\"M17.41 7.96l-1.37-1.37c-.4-.4-.92-.59-1.43-.59-.52 0-1.04.2-1.43.59L10.3 9.45l-7.72 7.72c-.78.78-.78 2.05 0 2.83L4 21.41c.39.39.9.59 1.41.59.51 0 1.02-.2 1.41-.59l7.78-7.78 2.81-2.81c.8-.78.8-2.07 0-2.86zM5.41 20L4 18.59l7.72-7.72 1.47 1.35L5.41 20z\"/>\n",
              "  </svg>\n",
              "      </button>\n",
              "      \n",
              "  <style>\n",
              "    .colab-df-container {\n",
              "      display:flex;\n",
              "      flex-wrap:wrap;\n",
              "      gap: 12px;\n",
              "    }\n",
              "\n",
              "    .colab-df-convert {\n",
              "      background-color: #E8F0FE;\n",
              "      border: none;\n",
              "      border-radius: 50%;\n",
              "      cursor: pointer;\n",
              "      display: none;\n",
              "      fill: #1967D2;\n",
              "      height: 32px;\n",
              "      padding: 0 0 0 0;\n",
              "      width: 32px;\n",
              "    }\n",
              "\n",
              "    .colab-df-convert:hover {\n",
              "      background-color: #E2EBFA;\n",
              "      box-shadow: 0px 1px 2px rgba(60, 64, 67, 0.3), 0px 1px 3px 1px rgba(60, 64, 67, 0.15);\n",
              "      fill: #174EA6;\n",
              "    }\n",
              "\n",
              "    [theme=dark] .colab-df-convert {\n",
              "      background-color: #3B4455;\n",
              "      fill: #D2E3FC;\n",
              "    }\n",
              "\n",
              "    [theme=dark] .colab-df-convert:hover {\n",
              "      background-color: #434B5C;\n",
              "      box-shadow: 0px 1px 3px 1px rgba(0, 0, 0, 0.15);\n",
              "      filter: drop-shadow(0px 1px 2px rgba(0, 0, 0, 0.3));\n",
              "      fill: #FFFFFF;\n",
              "    }\n",
              "  </style>\n",
              "\n",
              "      <script>\n",
              "        const buttonEl =\n",
              "          document.querySelector('#df-3e073de0-9cf5-4c92-b697-1cfb4b5e1b3f button.colab-df-convert');\n",
              "        buttonEl.style.display =\n",
              "          google.colab.kernel.accessAllowed ? 'block' : 'none';\n",
              "\n",
              "        async function convertToInteractive(key) {\n",
              "          const element = document.querySelector('#df-3e073de0-9cf5-4c92-b697-1cfb4b5e1b3f');\n",
              "          const dataTable =\n",
              "            await google.colab.kernel.invokeFunction('convertToInteractive',\n",
              "                                                     [key], {});\n",
              "          if (!dataTable) return;\n",
              "\n",
              "          const docLinkHtml = 'Like what you see? Visit the ' +\n",
              "            '<a target=\"_blank\" href=https://colab.research.google.com/notebooks/data_table.ipynb>data table notebook</a>'\n",
              "            + ' to learn more about interactive tables.';\n",
              "          element.innerHTML = '';\n",
              "          dataTable['output_type'] = 'display_data';\n",
              "          await google.colab.output.renderOutput(dataTable, element);\n",
              "          const docLink = document.createElement('div');\n",
              "          docLink.innerHTML = docLinkHtml;\n",
              "          element.appendChild(docLink);\n",
              "        }\n",
              "      </script>\n",
              "    </div>\n",
              "  </div>\n",
              "  "
            ]
          },
          "metadata": {},
          "execution_count": 88
        }
      ]
    },
    {
      "cell_type": "code",
      "source": [
        "df.info()"
      ],
      "metadata": {
        "id": "BJs8cTZsjejm",
        "colab": {
          "base_uri": "https://localhost:8080/"
        },
        "outputId": "9b035abc-28d3-4dea-c0b9-ac142d1229fa"
      },
      "execution_count": null,
      "outputs": [
        {
          "output_type": "stream",
          "name": "stdout",
          "text": [
            "<class 'pandas.core.frame.DataFrame'>\n",
            "RangeIndex: 303 entries, 0 to 302\n",
            "Data columns (total 14 columns):\n",
            " #   Column    Non-Null Count  Dtype  \n",
            "---  ------    --------------  -----  \n",
            " 0   age       303 non-null    int64  \n",
            " 1   sex       303 non-null    int64  \n",
            " 2   cp        303 non-null    int64  \n",
            " 3   trestbps  303 non-null    int64  \n",
            " 4   chol      303 non-null    int64  \n",
            " 5   fbs       303 non-null    int64  \n",
            " 6   restecg   303 non-null    int64  \n",
            " 7   thalach   303 non-null    int64  \n",
            " 8   exang     303 non-null    int64  \n",
            " 9   oldpeak   303 non-null    float64\n",
            " 10  slope     303 non-null    int64  \n",
            " 11  ca        303 non-null    int64  \n",
            " 12  thal      303 non-null    int64  \n",
            " 13  target    303 non-null    int64  \n",
            "dtypes: float64(1), int64(13)\n",
            "memory usage: 33.3 KB\n"
          ]
        }
      ]
    },
    {
      "cell_type": "code",
      "source": [
        "df.hist(bins=50, figsize=(20,15))"
      ],
      "metadata": {
        "colab": {
          "base_uri": "https://localhost:8080/",
          "height": 1000
        },
        "id": "mnEhercD_otU",
        "outputId": "217cfb18-268e-4d13-bd7f-1248be96e687"
      },
      "execution_count": null,
      "outputs": [
        {
          "output_type": "execute_result",
          "data": {
            "text/plain": [
              "array([[<matplotlib.axes._subplots.AxesSubplot object at 0x7fab0b480350>,\n",
              "        <matplotlib.axes._subplots.AxesSubplot object at 0x7fab09e41a10>,\n",
              "        <matplotlib.axes._subplots.AxesSubplot object at 0x7fab09df9a90>,\n",
              "        <matplotlib.axes._subplots.AxesSubplot object at 0x7fab09da6bd0>],\n",
              "       [<matplotlib.axes._subplots.AxesSubplot object at 0x7fab09d736d0>,\n",
              "        <matplotlib.axes._subplots.AxesSubplot object at 0x7fab09d2acd0>,\n",
              "        <matplotlib.axes._subplots.AxesSubplot object at 0x7fab09ced2d0>,\n",
              "        <matplotlib.axes._subplots.AxesSubplot object at 0x7fab09ca3890>],\n",
              "       [<matplotlib.axes._subplots.AxesSubplot object at 0x7fab09ca3910>,\n",
              "        <matplotlib.axes._subplots.AxesSubplot object at 0x7fab09cdbf90>,\n",
              "        <matplotlib.axes._subplots.AxesSubplot object at 0x7fab09c54b50>,\n",
              "        <matplotlib.axes._subplots.AxesSubplot object at 0x7fab09c17190>],\n",
              "       [<matplotlib.axes._subplots.AxesSubplot object at 0x7fab09bce790>,\n",
              "        <matplotlib.axes._subplots.AxesSubplot object at 0x7fab09d80f50>,\n",
              "        <matplotlib.axes._subplots.AxesSubplot object at 0x7fab09ba1310>,\n",
              "        <matplotlib.axes._subplots.AxesSubplot object at 0x7fab09f270d0>]],\n",
              "      dtype=object)"
            ]
          },
          "metadata": {},
          "execution_count": 90
        },
        {
          "output_type": "display_data",
          "data": {
            "text/plain": [
              "<Figure size 1440x1080 with 16 Axes>"
            ],
            "image/png": "[encoded data removed]"
          },
          "metadata": {}
        }
      ]
    },
    {
      "cell_type": "code",
      "source": [
        "df.isnull().sum()"
      ],
      "metadata": {
        "id": "Yborx7fYdR_L",
        "colab": {
          "base_uri": "https://localhost:8080/"
        },
        "outputId": "ec38066e-936f-4fed-82ca-9ccee3bafffc"
      },
      "execution_count": null,
      "outputs": [
        {
          "output_type": "execute_result",
          "data": {
            "text/plain": [
              "age         0\n",
              "sex         0\n",
              "cp          0\n",
              "trestbps    0\n",
              "chol        0\n",
              "fbs         0\n",
              "restecg     0\n",
              "thalach     0\n",
              "exang       0\n",
              "oldpeak     0\n",
              "slope       0\n",
              "ca          0\n",
              "thal        0\n",
              "target      0\n",
              "dtype: int64"
            ]
          },
          "metadata": {},
          "execution_count": 91
        }
      ]
    },
    {
      "cell_type": "code",
      "source": [
        "df.columns\n"
      ],
      "metadata": {
        "id": "ii2ajshIl4Ch",
        "colab": {
          "base_uri": "https://localhost:8080/"
        },
        "outputId": "6946e497-31be-4f11-9233-1937c412948a"
      },
      "execution_count": null,
      "outputs": [
        {
          "output_type": "execute_result",
          "data": {
            "text/plain": [
              "Index(['age', 'sex', 'cp', 'trestbps', 'chol', 'fbs', 'restecg', 'thalach',\n",
              "       'exang', 'oldpeak', 'slope', 'ca', 'thal', 'target'],\n",
              "      dtype='object')"
            ]
          },
          "metadata": {},
          "execution_count": 92
        }
      ]
    },
    {
      "cell_type": "code",
      "source": [
        "imbalance=len(df[df['target'] == 0])/len(df)*100 # Calculating Imbalance in the dataset\n",
        "imbalance"
      ],
      "metadata": {
        "id": "VaIblBa4dR8z",
        "colab": {
          "base_uri": "https://localhost:8080/"
        },
        "outputId": "760a801d-0054-445b-a388-e79f6316e225"
      },
      "execution_count": null,
      "outputs": [
        {
          "output_type": "execute_result",
          "data": {
            "text/plain": [
              "45.54455445544555"
            ]
          },
          "metadata": {},
          "execution_count": 93
        }
      ]
    },
    {
      "cell_type": "code",
      "source": [
        "df['target'].hist()"
      ],
      "metadata": {
        "id": "0eqNcfTukGVw",
        "colab": {
          "base_uri": "https://localhost:8080/",
          "height": 364
        },
        "outputId": "0dd1d2b8-8d0b-4178-e91a-ee35ef6d3017"
      },
      "execution_count": null,
      "outputs": [
        {
          "output_type": "execute_result",
          "data": {
            "text/plain": [
              "<matplotlib.axes._subplots.AxesSubplot at 0x7fab096f2550>"
            ]
          },
          "metadata": {},
          "execution_count": 94
        },
        {
          "output_type": "display_data",
          "data": {
            "text/plain": [
              "<Figure size 576x396 with 1 Axes>"
            ],
            "image/png": "[encoded data removed]"
          },
          "metadata": {}
        }
      ]
    },
    {
      "cell_type": "code",
      "source": [
        "y=df['target'].copy()\n",
        "x=df.drop(['target'],axis=1)\n",
        "print(f'Distribution before imbalancing: {Counter(y)}')"
      ],
      "metadata": {
        "id": "ipt_qOXJkHXw",
        "colab": {
          "base_uri": "https://localhost:8080/"
        },
        "outputId": "3089012a-5b23-4324-b96a-021ecbfdb435"
      },
      "execution_count": null,
      "outputs": [
        {
          "output_type": "stream",
          "name": "stdout",
          "text": [
            "Distribution before imbalancing: Counter({1: 165, 0: 138})\n"
          ]
        }
      ]
    },
    {
      "cell_type": "code",
      "source": [
        "x_b, y_b = make_imbalance(x, y,                                         # Low Imbalance (65%)\n",
        "                              sampling_strategy={0: 88, 1: 165},\n",
        "                              random_state=42)\n",
        "print(f'Distribution after imbalancing: {Counter(y_b)}')"
      ],
      "metadata": {
        "id": "IqytvqjGkHau",
        "colab": {
          "base_uri": "https://localhost:8080/"
        },
        "outputId": "823ab145-3bfa-4e87-92d9-8f35ab2b9f70"
      },
      "execution_count": null,
      "outputs": [
        {
          "output_type": "stream",
          "name": "stdout",
          "text": [
            "Distribution after imbalancing: Counter({1: 165, 0: 88})\n"
          ]
        }
      ]
    },
    {
      "cell_type": "code",
      "source": [
        "y_b.value_counts()"
      ],
      "metadata": {
        "id": "H5c9GwV5DC4T",
        "colab": {
          "base_uri": "https://localhost:8080/"
        },
        "outputId": "3ccc5474-47ed-401a-cdd0-969f39ab9ede"
      },
      "execution_count": null,
      "outputs": [
        {
          "output_type": "execute_result",
          "data": {
            "text/plain": [
              "1    165\n",
              "0     88\n",
              "Name: target, dtype: int64"
            ]
          },
          "metadata": {},
          "execution_count": 97
        }
      ]
    },
    {
      "cell_type": "code",
      "source": [
        "y_b.hist()  #low Imbalance"
      ],
      "metadata": {
        "id": "aq5F5J2XkHgH",
        "colab": {
          "base_uri": "https://localhost:8080/",
          "height": 364
        },
        "outputId": "82d7ab34-3d1a-4919-d3de-8038b0ecfaca"
      },
      "execution_count": null,
      "outputs": [
        {
          "output_type": "execute_result",
          "data": {
            "text/plain": [
              "<matplotlib.axes._subplots.AxesSubplot at 0x7fab0953b950>"
            ]
          },
          "metadata": {},
          "execution_count": 98
        },
        {
          "output_type": "display_data",
          "data": {
            "text/plain": [
              "<Figure size 576x396 with 1 Axes>"
            ],
            "image/png": "[encoded data removed]"
          },
          "metadata": {}
        }
      ]
    },
    {
      "cell_type": "code",
      "source": [
        "x_b1, y_b1 = make_imbalance(x, y,                                         # Medium Imbalance (75%)\n",
        "\n",
        "                              sampling_strategy={0: 55, 1: 165},\n",
        "                              random_state=42)\n",
        "print(f'Distribution after imbalancing: {Counter(y_b1)}')"
      ],
      "metadata": {
        "id": "QlywkmdunUAS",
        "colab": {
          "base_uri": "https://localhost:8080/"
        },
        "outputId": "00a6b84b-cc0f-488b-9d77-beea46e2da72"
      },
      "execution_count": null,
      "outputs": [
        {
          "output_type": "stream",
          "name": "stdout",
          "text": [
            "Distribution after imbalancing: Counter({1: 165, 0: 55})\n"
          ]
        }
      ]
    },
    {
      "cell_type": "code",
      "source": [
        "y_b1.hist()  # Medium Imbalance"
      ],
      "metadata": {
        "id": "ALldzfFCnVkQ",
        "colab": {
          "base_uri": "https://localhost:8080/",
          "height": 364
        },
        "outputId": "a559ef44-f379-4738-8b2d-5473dcd8777f"
      },
      "execution_count": null,
      "outputs": [
        {
          "output_type": "execute_result",
          "data": {
            "text/plain": [
              "<matplotlib.axes._subplots.AxesSubplot at 0x7fab0995a4d0>"
            ]
          },
          "metadata": {},
          "execution_count": 100
        },
        {
          "output_type": "display_data",
          "data": {
            "text/plain": [
              "<Figure size 576x396 with 1 Axes>"
            ],
            "image/png": "[encoded data removed]"
          },
          "metadata": {}
        }
      ]
    },
    {
      "cell_type": "code",
      "source": [
        "x_b2, y_b2 = make_imbalance(x, y,                                         # High Imbalance (90%)\n",
        "                              sampling_strategy={0: 18, 1: 165},\n",
        "\n",
        "                              random_state=42)\n",
        "print(f'Distribution after imbalancing: {Counter(y_b2)}')"
      ],
      "metadata": {
        "id": "6tLgfeOWnUSI",
        "colab": {
          "base_uri": "https://localhost:8080/"
        },
        "outputId": "91976ea1-28fa-4817-d028-e471fb0c169f"
      },
      "execution_count": null,
      "outputs": [
        {
          "output_type": "stream",
          "name": "stdout",
          "text": [
            "Distribution after imbalancing: Counter({1: 165, 0: 18})\n"
          ]
        }
      ]
    },
    {
      "cell_type": "code",
      "source": [
        "y_b2.hist()  # High Imbalance"
      ],
      "metadata": {
        "id": "mo2TSKPlnUVZ",
        "colab": {
          "base_uri": "https://localhost:8080/",
          "height": 364
        },
        "outputId": "9c719fc5-e352-48ce-86c4-028356f09790"
      },
      "execution_count": null,
      "outputs": [
        {
          "output_type": "execute_result",
          "data": {
            "text/plain": [
              "<matplotlib.axes._subplots.AxesSubplot at 0x7fab09385a10>"
            ]
          },
          "metadata": {},
          "execution_count": 102
        },
        {
          "output_type": "display_data",
          "data": {
            "text/plain": [
              "<Figure size 576x396 with 1 Axes>"
            ],
            "image/png": "[encoded data removed]"
          },
          "metadata": {}
        }
      ]
    },
    {
      "cell_type": "code",
      "source": [
        "def metric_score(x ,y):\n",
        "\n",
        "  model=RandomForestClassifier()                                          # baseline classifier \n",
        "  metric=[]                                                                     # array to store measured metric \n",
        "  skf=StratifiedKFold(n_splits=10,random_state=None)                            # stratified cross validation is applied \n",
        "  skf.get_n_splits(x,y)\n",
        "\n",
        "  for train_index,test_index in skf.split(x,y):\n",
        "\n",
        "    \n",
        "    x_train,x_test=x.iloc[train_index],x.iloc[test_index]                     # 4 surrogates of data are created training and test data \n",
        "    y_train,y_test=y.iloc[train_index],y.iloc[test_index]\n",
        "    \n",
        "    model.fit(x_train,y_train)                                            # model is fitted with training data \n",
        "    predict=model.predict(x_test)                                            # model is tested on test data \n",
        "    my_score=f1_score(predict,y_test)\n",
        "    metric.append(my_score)                                                        # scores obtained for 10 iterations are stored in a array \n",
        "  \n",
        "  metric=np.array([metric]) \n",
        "  print( \"F1 Score for 10 iterations is given by :\")                            # metric is converted to numpy array \n",
        "  print( metric)                                                                # All 10 scores for 1 iterations are displayed here \n",
        "  print(\"\\n\")\n",
        "\n",
        "  print( \"Mean F1 Score :\")                                                     \n",
        "  print(np.mean(metric))                                                        # mean of 10 scores is diplayed here\n",
        "  print(\"\\n\")\n",
        "  \n",
        "  print( \"standard Deviation of F1 Score :\")\n",
        "  print(np.std(metric))                                                        # standard deviation of 10 scores is diplayed here\n",
        "  print(\"\\n\")\n",
        "\n",
        "\n",
        "  result=pd.DataFrame(classification_report(y_test, predict, output_dict=True))\n",
        "  display(result)\n",
        "  \n",
        "\n",
        "\n"
      ],
      "metadata": {
        "id": "PHh-rT23jfj9"
      },
      "execution_count": null,
      "outputs": []
    },
    {
      "cell_type": "code",
      "source": [
        "metric_score(x,y)  \n"
      ],
      "metadata": {
        "colab": {
          "base_uri": "https://localhost:8080/",
          "height": 400
        },
        "id": "psAo0Pk__gvF",
        "outputId": "ab392a94-a84a-43d1-9db7-c295ffe6f186"
      },
      "execution_count": null,
      "outputs": [
        {
          "output_type": "stream",
          "name": "stdout",
          "text": [
            "F1 Score for 10 iterations is given by :\n",
            "[[0.89473684 0.85714286 0.86486486 0.90909091 0.91891892 0.8\n",
            "  0.78787879 0.85714286 0.77777778 0.78787879]]\n",
            "\n",
            "\n",
            "Mean F1 Score :\n",
            "0.8455432602801023\n",
            "\n",
            "\n",
            "standard Deviation of F1 Score :\n",
            "0.05079513468010026\n",
            "\n",
            "\n"
          ]
        },
        {
          "output_type": "display_data",
          "data": {
            "text/plain": [
              "                   0          1  accuracy  macro avg  weighted avg\n",
              "precision   0.769231   0.764706  0.766667   0.766968      0.766817\n",
              "recall      0.714286   0.812500  0.766667   0.763393      0.766667\n",
              "f1-score    0.740741   0.787879  0.766667   0.764310      0.765881\n",
              "support    14.000000  16.000000  0.766667  30.000000     30.000000"
            ],
            "text/html": [
              "\n",
              "  <div id=\"df-cd60cf63-b87d-4236-8be0-f6edf549124c\">\n",
              "    <div class=\"colab-df-container\">\n",
              "      <div>\n",
              "<style scoped>\n",
              "    .dataframe tbody tr th:only-of-type {\n",
              "        vertical-align: middle;\n",
              "    }\n",
              "\n",
              "    .dataframe tbody tr th {\n",
              "        vertical-align: top;\n",
              "    }\n",
              "\n",
              "    .dataframe thead th {\n",
              "        text-align: right;\n",
              "    }\n",
              "</style>\n",
              "<table border=\"1\" class=\"dataframe\">\n",
              "  <thead>\n",
              "    <tr style=\"text-align: right;\">\n",
              "      <th></th>\n",
              "      <th>0</th>\n",
              "      <th>1</th>\n",
              "      <th>accuracy</th>\n",
              "      <th>macro avg</th>\n",
              "      <th>weighted avg</th>\n",
              "    </tr>\n",
              "  </thead>\n",
              "  <tbody>\n",
              "    <tr>\n",
              "      <th>precision</th>\n",
              "      <td>0.769231</td>\n",
              "      <td>0.764706</td>\n",
              "      <td>0.766667</td>\n",
              "      <td>0.766968</td>\n",
              "      <td>0.766817</td>\n",
              "    </tr>\n",
              "    <tr>\n",
              "      <th>recall</th>\n",
              "      <td>0.714286</td>\n",
              "      <td>0.812500</td>\n",
              "      <td>0.766667</td>\n",
              "      <td>0.763393</td>\n",
              "      <td>0.766667</td>\n",
              "    </tr>\n",
              "    <tr>\n",
              "      <th>f1-score</th>\n",
              "      <td>0.740741</td>\n",
              "      <td>0.787879</td>\n",
              "      <td>0.766667</td>\n",
              "      <td>0.764310</td>\n",
              "      <td>0.765881</td>\n",
              "    </tr>\n",
              "    <tr>\n",
              "      <th>support</th>\n",
              "      <td>14.000000</td>\n",
              "      <td>16.000000</td>\n",
              "      <td>0.766667</td>\n",
              "      <td>30.000000</td>\n",
              "      <td>30.000000</td>\n",
              "    </tr>\n",
              "  </tbody>\n",
              "</table>\n",
              "</div>\n",
              "      <button class=\"colab-df-convert\" onclick=\"convertToInteractive('df-cd60cf63-b87d-4236-8be0-f6edf549124c')\"\n",
              "              title=\"Convert this dataframe to an interactive table.\"\n",
              "              style=\"display:none;\">\n",
              "        \n",
              "  <svg xmlns=\"http://www.w3.org/2000/svg\" height=\"24px\"viewBox=\"0 0 24 24\"\n",
              "       width=\"24px\">\n",
              "    <path d=\"M0 0h24v24H0V0z\" fill=\"none\"/>\n",
              "    <path d=\"M18.56 5.44l.94 2.06.94-2.06 2.06-.94-2.06-.94-.94-2.06-.94 2.06-2.06.94zm-11 1L8.5 8.5l.94-2.06 2.06-.94-2.06-.94L8.5 2.5l-.94 2.06-2.06.94zm10 10l.94 2.06.94-2.06 2.06-.94-2.06-.94-.94-2.06-.94 2.06-2.06.94z\"/><path d=\"M17.41 7.96l-1.37-1.37c-.4-.4-.92-.59-1.43-.59-.52 0-1.04.2-1.43.59L10.3 9.45l-7.72 7.72c-.78.78-.78 2.05 0 2.83L4 21.41c.39.39.9.59 1.41.59.51 0 1.02-.2 1.41-.59l7.78-7.78 2.81-2.81c.8-.78.8-2.07 0-2.86zM5.41 20L4 18.59l7.72-7.72 1.47 1.35L5.41 20z\"/>\n",
              "  </svg>\n",
              "      </button>\n",
              "      \n",
              "  <style>\n",
              "    .colab-df-container {\n",
              "      display:flex;\n",
              "      flex-wrap:wrap;\n",
              "      gap: 12px;\n",
              "    }\n",
              "\n",
              "    .colab-df-convert {\n",
              "      background-color: #E8F0FE;\n",
              "      border: none;\n",
              "      border-radius: 50%;\n",
              "      cursor: pointer;\n",
              "      display: none;\n",
              "      fill: #1967D2;\n",
              "      height: 32px;\n",
              "      padding: 0 0 0 0;\n",
              "      width: 32px;\n",
              "    }\n",
              "\n",
              "    .colab-df-convert:hover {\n",
              "      background-color: #E2EBFA;\n",
              "      box-shadow: 0px 1px 2px rgba(60, 64, 67, 0.3), 0px 1px 3px 1px rgba(60, 64, 67, 0.15);\n",
              "      fill: #174EA6;\n",
              "    }\n",
              "\n",
              "    [theme=dark] .colab-df-convert {\n",
              "      background-color: #3B4455;\n",
              "      fill: #D2E3FC;\n",
              "    }\n",
              "\n",
              "    [theme=dark] .colab-df-convert:hover {\n",
              "      background-color: #434B5C;\n",
              "      box-shadow: 0px 1px 3px 1px rgba(0, 0, 0, 0.15);\n",
              "      filter: drop-shadow(0px 1px 2px rgba(0, 0, 0, 0.3));\n",
              "      fill: #FFFFFF;\n",
              "    }\n",
              "  </style>\n",
              "\n",
              "      <script>\n",
              "        const buttonEl =\n",
              "          document.querySelector('#df-cd60cf63-b87d-4236-8be0-f6edf549124c button.colab-df-convert');\n",
              "        buttonEl.style.display =\n",
              "          google.colab.kernel.accessAllowed ? 'block' : 'none';\n",
              "\n",
              "        async function convertToInteractive(key) {\n",
              "          const element = document.querySelector('#df-cd60cf63-b87d-4236-8be0-f6edf549124c');\n",
              "          const dataTable =\n",
              "            await google.colab.kernel.invokeFunction('convertToInteractive',\n",
              "                                                     [key], {});\n",
              "          if (!dataTable) return;\n",
              "\n",
              "          const docLinkHtml = 'Like what you see? Visit the ' +\n",
              "            '<a target=\"_blank\" href=https://colab.research.google.com/notebooks/data_table.ipynb>data table notebook</a>'\n",
              "            + ' to learn more about interactive tables.';\n",
              "          element.innerHTML = '';\n",
              "          dataTable['output_type'] = 'display_data';\n",
              "          await google.colab.output.renderOutput(dataTable, element);\n",
              "          const docLink = document.createElement('div');\n",
              "          docLink.innerHTML = docLinkHtml;\n",
              "          element.appendChild(docLink);\n",
              "        }\n",
              "      </script>\n",
              "    </div>\n",
              "  </div>\n",
              "  "
            ]
          },
          "metadata": {}
        }
      ]
    },
    {
      "cell_type": "code",
      "source": [
        "metric_score(x_b,y_b) "
      ],
      "metadata": {
        "colab": {
          "base_uri": "https://localhost:8080/",
          "height": 400
        },
        "id": "emJDLduv_g0N",
        "outputId": "2131a097-483d-47cb-eafb-5784e5c308ef"
      },
      "execution_count": null,
      "outputs": [
        {
          "output_type": "stream",
          "name": "stdout",
          "text": [
            "F1 Score for 10 iterations is given by :\n",
            "[[0.83333333 0.88888889 1.         0.90909091 0.78787879 0.9375\n",
            "  0.90909091 0.8125     0.91891892 0.86486486]]\n",
            "\n",
            "\n",
            "Mean F1 Score :\n",
            "0.8862066612066613\n",
            "\n",
            "\n",
            "standard Deviation of F1 Score :\n",
            "0.06004722971265424\n",
            "\n",
            "\n"
          ]
        },
        {
          "output_type": "display_data",
          "data": {
            "text/plain": [
              "                  0          1  accuracy  macro avg  weighted avg\n",
              "precision  0.800000   0.800000       0.8   0.800000      0.800000\n",
              "recall     0.500000   0.941176       0.8   0.720588      0.800000\n",
              "f1-score   0.615385   0.864865       0.8   0.740125      0.785031\n",
              "support    8.000000  17.000000       0.8  25.000000     25.000000"
            ],
            "text/html": [
              "\n",
              "  <div id=\"df-eaea9f24-acec-4468-8970-fcde897a16de\">\n",
              "    <div class=\"colab-df-container\">\n",
              "      <div>\n",
              "<style scoped>\n",
              "    .dataframe tbody tr th:only-of-type {\n",
              "        vertical-align: middle;\n",
              "    }\n",
              "\n",
              "    .dataframe tbody tr th {\n",
              "        vertical-align: top;\n",
              "    }\n",
              "\n",
              "    .dataframe thead th {\n",
              "        text-align: right;\n",
              "    }\n",
              "</style>\n",
              "<table border=\"1\" class=\"dataframe\">\n",
              "  <thead>\n",
              "    <tr style=\"text-align: right;\">\n",
              "      <th></th>\n",
              "      <th>0</th>\n",
              "      <th>1</th>\n",
              "      <th>accuracy</th>\n",
              "      <th>macro avg</th>\n",
              "      <th>weighted avg</th>\n",
              "    </tr>\n",
              "  </thead>\n",
              "  <tbody>\n",
              "    <tr>\n",
              "      <th>precision</th>\n",
              "      <td>0.800000</td>\n",
              "      <td>0.800000</td>\n",
              "      <td>0.8</td>\n",
              "      <td>0.800000</td>\n",
              "      <td>0.800000</td>\n",
              "    </tr>\n",
              "    <tr>\n",
              "      <th>recall</th>\n",
              "      <td>0.500000</td>\n",
              "      <td>0.941176</td>\n",
              "      <td>0.8</td>\n",
              "      <td>0.720588</td>\n",
              "      <td>0.800000</td>\n",
              "    </tr>\n",
              "    <tr>\n",
              "      <th>f1-score</th>\n",
              "      <td>0.615385</td>\n",
              "      <td>0.864865</td>\n",
              "      <td>0.8</td>\n",
              "      <td>0.740125</td>\n",
              "      <td>0.785031</td>\n",
              "    </tr>\n",
              "    <tr>\n",
              "      <th>support</th>\n",
              "      <td>8.000000</td>\n",
              "      <td>17.000000</td>\n",
              "      <td>0.8</td>\n",
              "      <td>25.000000</td>\n",
              "      <td>25.000000</td>\n",
              "    </tr>\n",
              "  </tbody>\n",
              "</table>\n",
              "</div>\n",
              "      <button class=\"colab-df-convert\" onclick=\"convertToInteractive('df-eaea9f24-acec-4468-8970-fcde897a16de')\"\n",
              "              title=\"Convert this dataframe to an interactive table.\"\n",
              "              style=\"display:none;\">\n",
              "        \n",
              "  <svg xmlns=\"http://www.w3.org/2000/svg\" height=\"24px\"viewBox=\"0 0 24 24\"\n",
              "       width=\"24px\">\n",
              "    <path d=\"M0 0h24v24H0V0z\" fill=\"none\"/>\n",
              "    <path d=\"M18.56 5.44l.94 2.06.94-2.06 2.06-.94-2.06-.94-.94-2.06-.94 2.06-2.06.94zm-11 1L8.5 8.5l.94-2.06 2.06-.94-2.06-.94L8.5 2.5l-.94 2.06-2.06.94zm10 10l.94 2.06.94-2.06 2.06-.94-2.06-.94-.94-2.06-.94 2.06-2.06.94z\"/><path d=\"M17.41 7.96l-1.37-1.37c-.4-.4-.92-.59-1.43-.59-.52 0-1.04.2-1.43.59L10.3 9.45l-7.72 7.72c-.78.78-.78 2.05 0 2.83L4 21.41c.39.39.9.59 1.41.59.51 0 1.02-.2 1.41-.59l7.78-7.78 2.81-2.81c.8-.78.8-2.07 0-2.86zM5.41 20L4 18.59l7.72-7.72 1.47 1.35L5.41 20z\"/>\n",
              "  </svg>\n",
              "      </button>\n",
              "      \n",
              "  <style>\n",
              "    .colab-df-container {\n",
              "      display:flex;\n",
              "      flex-wrap:wrap;\n",
              "      gap: 12px;\n",
              "    }\n",
              "\n",
              "    .colab-df-convert {\n",
              "      background-color: #E8F0FE;\n",
              "      border: none;\n",
              "      border-radius: 50%;\n",
              "      cursor: pointer;\n",
              "      display: none;\n",
              "      fill: #1967D2;\n",
              "      height: 32px;\n",
              "      padding: 0 0 0 0;\n",
              "      width: 32px;\n",
              "    }\n",
              "\n",
              "    .colab-df-convert:hover {\n",
              "      background-color: #E2EBFA;\n",
              "      box-shadow: 0px 1px 2px rgba(60, 64, 67, 0.3), 0px 1px 3px 1px rgba(60, 64, 67, 0.15);\n",
              "      fill: #174EA6;\n",
              "    }\n",
              "\n",
              "    [theme=dark] .colab-df-convert {\n",
              "      background-color: #3B4455;\n",
              "      fill: #D2E3FC;\n",
              "    }\n",
              "\n",
              "    [theme=dark] .colab-df-convert:hover {\n",
              "      background-color: #434B5C;\n",
              "      box-shadow: 0px 1px 3px 1px rgba(0, 0, 0, 0.15);\n",
              "      filter: drop-shadow(0px 1px 2px rgba(0, 0, 0, 0.3));\n",
              "      fill: #FFFFFF;\n",
              "    }\n",
              "  </style>\n",
              "\n",
              "      <script>\n",
              "        const buttonEl =\n",
              "          document.querySelector('#df-eaea9f24-acec-4468-8970-fcde897a16de button.colab-df-convert');\n",
              "        buttonEl.style.display =\n",
              "          google.colab.kernel.accessAllowed ? 'block' : 'none';\n",
              "\n",
              "        async function convertToInteractive(key) {\n",
              "          const element = document.querySelector('#df-eaea9f24-acec-4468-8970-fcde897a16de');\n",
              "          const dataTable =\n",
              "            await google.colab.kernel.invokeFunction('convertToInteractive',\n",
              "                                                     [key], {});\n",
              "          if (!dataTable) return;\n",
              "\n",
              "          const docLinkHtml = 'Like what you see? Visit the ' +\n",
              "            '<a target=\"_blank\" href=https://colab.research.google.com/notebooks/data_table.ipynb>data table notebook</a>'\n",
              "            + ' to learn more about interactive tables.';\n",
              "          element.innerHTML = '';\n",
              "          dataTable['output_type'] = 'display_data';\n",
              "          await google.colab.output.renderOutput(dataTable, element);\n",
              "          const docLink = document.createElement('div');\n",
              "          docLink.innerHTML = docLinkHtml;\n",
              "          element.appendChild(docLink);\n",
              "        }\n",
              "      </script>\n",
              "    </div>\n",
              "  </div>\n",
              "  "
            ]
          },
          "metadata": {}
        }
      ]
    },
    {
      "cell_type": "code",
      "source": [
        "metric_score(x_b1,y_b1)"
      ],
      "metadata": {
        "colab": {
          "base_uri": "https://localhost:8080/",
          "height": 400
        },
        "id": "CtNS0XTO_g21",
        "outputId": "cb141545-b0c9-4d37-ede2-61f3a56bed85"
      },
      "execution_count": null,
      "outputs": [
        {
          "output_type": "stream",
          "name": "stdout",
          "text": [
            "F1 Score for 10 iterations is given by :\n",
            "[[0.82352941 0.83333333 0.94117647 0.96969697 0.96774194 0.88235294\n",
            "  0.91428571 0.82352941 1.         0.94117647]]\n",
            "\n",
            "\n",
            "Mean F1 Score :\n",
            "0.9096822658682242\n",
            "\n",
            "\n",
            "standard Deviation of F1 Score :\n",
            "0.06209317566137321\n",
            "\n",
            "\n"
          ]
        },
        {
          "output_type": "display_data",
          "data": {
            "text/plain": [
              "             0          1  accuracy  macro avg  weighted avg\n",
              "precision  0.8   0.941176  0.909091   0.870588      0.909091\n",
              "recall     0.8   0.941176  0.909091   0.870588      0.909091\n",
              "f1-score   0.8   0.941176  0.909091   0.870588      0.909091\n",
              "support    5.0  17.000000  0.909091  22.000000     22.000000"
            ],
            "text/html": [
              "\n",
              "  <div id=\"df-15f1ed7b-85e2-4a46-8a9e-4dc6b8cb9ffa\">\n",
              "    <div class=\"colab-df-container\">\n",
              "      <div>\n",
              "<style scoped>\n",
              "    .dataframe tbody tr th:only-of-type {\n",
              "        vertical-align: middle;\n",
              "    }\n",
              "\n",
              "    .dataframe tbody tr th {\n",
              "        vertical-align: top;\n",
              "    }\n",
              "\n",
              "    .dataframe thead th {\n",
              "        text-align: right;\n",
              "    }\n",
              "</style>\n",
              "<table border=\"1\" class=\"dataframe\">\n",
              "  <thead>\n",
              "    <tr style=\"text-align: right;\">\n",
              "      <th></th>\n",
              "      <th>0</th>\n",
              "      <th>1</th>\n",
              "      <th>accuracy</th>\n",
              "      <th>macro avg</th>\n",
              "      <th>weighted avg</th>\n",
              "    </tr>\n",
              "  </thead>\n",
              "  <tbody>\n",
              "    <tr>\n",
              "      <th>precision</th>\n",
              "      <td>0.8</td>\n",
              "      <td>0.941176</td>\n",
              "      <td>0.909091</td>\n",
              "      <td>0.870588</td>\n",
              "      <td>0.909091</td>\n",
              "    </tr>\n",
              "    <tr>\n",
              "      <th>recall</th>\n",
              "      <td>0.8</td>\n",
              "      <td>0.941176</td>\n",
              "      <td>0.909091</td>\n",
              "      <td>0.870588</td>\n",
              "      <td>0.909091</td>\n",
              "    </tr>\n",
              "    <tr>\n",
              "      <th>f1-score</th>\n",
              "      <td>0.8</td>\n",
              "      <td>0.941176</td>\n",
              "      <td>0.909091</td>\n",
              "      <td>0.870588</td>\n",
              "      <td>0.909091</td>\n",
              "    </tr>\n",
              "    <tr>\n",
              "      <th>support</th>\n",
              "      <td>5.0</td>\n",
              "      <td>17.000000</td>\n",
              "      <td>0.909091</td>\n",
              "      <td>22.000000</td>\n",
              "      <td>22.000000</td>\n",
              "    </tr>\n",
              "  </tbody>\n",
              "</table>\n",
              "</div>\n",
              "      <button class=\"colab-df-convert\" onclick=\"convertToInteractive('df-15f1ed7b-85e2-4a46-8a9e-4dc6b8cb9ffa')\"\n",
              "              title=\"Convert this dataframe to an interactive table.\"\n",
              "              style=\"display:none;\">\n",
              "        \n",
              "  <svg xmlns=\"http://www.w3.org/2000/svg\" height=\"24px\"viewBox=\"0 0 24 24\"\n",
              "       width=\"24px\">\n",
              "    <path d=\"M0 0h24v24H0V0z\" fill=\"none\"/>\n",
              "    <path d=\"M18.56 5.44l.94 2.06.94-2.06 2.06-.94-2.06-.94-.94-2.06-.94 2.06-2.06.94zm-11 1L8.5 8.5l.94-2.06 2.06-.94-2.06-.94L8.5 2.5l-.94 2.06-2.06.94zm10 10l.94 2.06.94-2.06 2.06-.94-2.06-.94-.94-2.06-.94 2.06-2.06.94z\"/><path d=\"M17.41 7.96l-1.37-1.37c-.4-.4-.92-.59-1.43-.59-.52 0-1.04.2-1.43.59L10.3 9.45l-7.72 7.72c-.78.78-.78 2.05 0 2.83L4 21.41c.39.39.9.59 1.41.59.51 0 1.02-.2 1.41-.59l7.78-7.78 2.81-2.81c.8-.78.8-2.07 0-2.86zM5.41 20L4 18.59l7.72-7.72 1.47 1.35L5.41 20z\"/>\n",
              "  </svg>\n",
              "      </button>\n",
              "      \n",
              "  <style>\n",
              "    .colab-df-container {\n",
              "      display:flex;\n",
              "      flex-wrap:wrap;\n",
              "      gap: 12px;\n",
              "    }\n",
              "\n",
              "    .colab-df-convert {\n",
              "      background-color: #E8F0FE;\n",
              "      border: none;\n",
              "      border-radius: 50%;\n",
              "      cursor: pointer;\n",
              "      display: none;\n",
              "      fill: #1967D2;\n",
              "      height: 32px;\n",
              "      padding: 0 0 0 0;\n",
              "      width: 32px;\n",
              "    }\n",
              "\n",
              "    .colab-df-convert:hover {\n",
              "      background-color: #E2EBFA;\n",
              "      box-shadow: 0px 1px 2px rgba(60, 64, 67, 0.3), 0px 1px 3px 1px rgba(60, 64, 67, 0.15);\n",
              "      fill: #174EA6;\n",
              "    }\n",
              "\n",
              "    [theme=dark] .colab-df-convert {\n",
              "      background-color: #3B4455;\n",
              "      fill: #D2E3FC;\n",
              "    }\n",
              "\n",
              "    [theme=dark] .colab-df-convert:hover {\n",
              "      background-color: #434B5C;\n",
              "      box-shadow: 0px 1px 3px 1px rgba(0, 0, 0, 0.15);\n",
              "      filter: drop-shadow(0px 1px 2px rgba(0, 0, 0, 0.3));\n",
              "      fill: #FFFFFF;\n",
              "    }\n",
              "  </style>\n",
              "\n",
              "      <script>\n",
              "        const buttonEl =\n",
              "          document.querySelector('#df-15f1ed7b-85e2-4a46-8a9e-4dc6b8cb9ffa button.colab-df-convert');\n",
              "        buttonEl.style.display =\n",
              "          google.colab.kernel.accessAllowed ? 'block' : 'none';\n",
              "\n",
              "        async function convertToInteractive(key) {\n",
              "          const element = document.querySelector('#df-15f1ed7b-85e2-4a46-8a9e-4dc6b8cb9ffa');\n",
              "          const dataTable =\n",
              "            await google.colab.kernel.invokeFunction('convertToInteractive',\n",
              "                                                     [key], {});\n",
              "          if (!dataTable) return;\n",
              "\n",
              "          const docLinkHtml = 'Like what you see? Visit the ' +\n",
              "            '<a target=\"_blank\" href=https://colab.research.google.com/notebooks/data_table.ipynb>data table notebook</a>'\n",
              "            + ' to learn more about interactive tables.';\n",
              "          element.innerHTML = '';\n",
              "          dataTable['output_type'] = 'display_data';\n",
              "          await google.colab.output.renderOutput(dataTable, element);\n",
              "          const docLink = document.createElement('div');\n",
              "          docLink.innerHTML = docLinkHtml;\n",
              "          element.appendChild(docLink);\n",
              "        }\n",
              "      </script>\n",
              "    </div>\n",
              "  </div>\n",
              "  "
            ]
          },
          "metadata": {}
        }
      ]
    },
    {
      "cell_type": "code",
      "source": [
        "metric_score(x_b2,y_b2)"
      ],
      "metadata": {
        "colab": {
          "base_uri": "https://localhost:8080/",
          "height": 400
        },
        "id": "GaRn3HEo_g48",
        "outputId": "09625849-c4b4-4cbb-c5fe-aa6dd69b950e"
      },
      "execution_count": null,
      "outputs": [
        {
          "output_type": "stream",
          "name": "stdout",
          "text": [
            "F1 Score for 10 iterations is given by :\n",
            "[[0.91428571 0.97142857 0.94444444 0.94117647 0.90909091 0.96969697\n",
            "  0.94117647 0.94117647 0.97142857 1.        ]]\n",
            "\n",
            "\n",
            "Mean F1 Score :\n",
            "0.9503904592139886\n",
            "\n",
            "\n",
            "standard Deviation of F1 Score :\n",
            "0.02649208469083894\n",
            "\n",
            "\n"
          ]
        },
        {
          "output_type": "display_data",
          "data": {
            "text/plain": [
              "             0     1  accuracy  macro avg  weighted avg\n",
              "precision  1.0   1.0       1.0        1.0           1.0\n",
              "recall     1.0   1.0       1.0        1.0           1.0\n",
              "f1-score   1.0   1.0       1.0        1.0           1.0\n",
              "support    1.0  17.0       1.0       18.0          18.0"
            ],
            "text/html": [
              "\n",
              "  <div id=\"df-73a507f7-7fde-4c7f-9649-2b3e4b7db2c5\">\n",
              "    <div class=\"colab-df-container\">\n",
              "      <div>\n",
              "<style scoped>\n",
              "    .dataframe tbody tr th:only-of-type {\n",
              "        vertical-align: middle;\n",
              "    }\n",
              "\n",
              "    .dataframe tbody tr th {\n",
              "        vertical-align: top;\n",
              "    }\n",
              "\n",
              "    .dataframe thead th {\n",
              "        text-align: right;\n",
              "    }\n",
              "</style>\n",
              "<table border=\"1\" class=\"dataframe\">\n",
              "  <thead>\n",
              "    <tr style=\"text-align: right;\">\n",
              "      <th></th>\n",
              "      <th>0</th>\n",
              "      <th>1</th>\n",
              "      <th>accuracy</th>\n",
              "      <th>macro avg</th>\n",
              "      <th>weighted avg</th>\n",
              "    </tr>\n",
              "  </thead>\n",
              "  <tbody>\n",
              "    <tr>\n",
              "      <th>precision</th>\n",
              "      <td>1.0</td>\n",
              "      <td>1.0</td>\n",
              "      <td>1.0</td>\n",
              "      <td>1.0</td>\n",
              "      <td>1.0</td>\n",
              "    </tr>\n",
              "    <tr>\n",
              "      <th>recall</th>\n",
              "      <td>1.0</td>\n",
              "      <td>1.0</td>\n",
              "      <td>1.0</td>\n",
              "      <td>1.0</td>\n",
              "      <td>1.0</td>\n",
              "    </tr>\n",
              "    <tr>\n",
              "      <th>f1-score</th>\n",
              "      <td>1.0</td>\n",
              "      <td>1.0</td>\n",
              "      <td>1.0</td>\n",
              "      <td>1.0</td>\n",
              "      <td>1.0</td>\n",
              "    </tr>\n",
              "    <tr>\n",
              "      <th>support</th>\n",
              "      <td>1.0</td>\n",
              "      <td>17.0</td>\n",
              "      <td>1.0</td>\n",
              "      <td>18.0</td>\n",
              "      <td>18.0</td>\n",
              "    </tr>\n",
              "  </tbody>\n",
              "</table>\n",
              "</div>\n",
              "      <button class=\"colab-df-convert\" onclick=\"convertToInteractive('df-73a507f7-7fde-4c7f-9649-2b3e4b7db2c5')\"\n",
              "              title=\"Convert this dataframe to an interactive table.\"\n",
              "              style=\"display:none;\">\n",
              "        \n",
              "  <svg xmlns=\"http://www.w3.org/2000/svg\" height=\"24px\"viewBox=\"0 0 24 24\"\n",
              "       width=\"24px\">\n",
              "    <path d=\"M0 0h24v24H0V0z\" fill=\"none\"/>\n",
              "    <path d=\"M18.56 5.44l.94 2.06.94-2.06 2.06-.94-2.06-.94-.94-2.06-.94 2.06-2.06.94zm-11 1L8.5 8.5l.94-2.06 2.06-.94-2.06-.94L8.5 2.5l-.94 2.06-2.06.94zm10 10l.94 2.06.94-2.06 2.06-.94-2.06-.94-.94-2.06-.94 2.06-2.06.94z\"/><path d=\"M17.41 7.96l-1.37-1.37c-.4-.4-.92-.59-1.43-.59-.52 0-1.04.2-1.43.59L10.3 9.45l-7.72 7.72c-.78.78-.78 2.05 0 2.83L4 21.41c.39.39.9.59 1.41.59.51 0 1.02-.2 1.41-.59l7.78-7.78 2.81-2.81c.8-.78.8-2.07 0-2.86zM5.41 20L4 18.59l7.72-7.72 1.47 1.35L5.41 20z\"/>\n",
              "  </svg>\n",
              "      </button>\n",
              "      \n",
              "  <style>\n",
              "    .colab-df-container {\n",
              "      display:flex;\n",
              "      flex-wrap:wrap;\n",
              "      gap: 12px;\n",
              "    }\n",
              "\n",
              "    .colab-df-convert {\n",
              "      background-color: #E8F0FE;\n",
              "      border: none;\n",
              "      border-radius: 50%;\n",
              "      cursor: pointer;\n",
              "      display: none;\n",
              "      fill: #1967D2;\n",
              "      height: 32px;\n",
              "      padding: 0 0 0 0;\n",
              "      width: 32px;\n",
              "    }\n",
              "\n",
              "    .colab-df-convert:hover {\n",
              "      background-color: #E2EBFA;\n",
              "      box-shadow: 0px 1px 2px rgba(60, 64, 67, 0.3), 0px 1px 3px 1px rgba(60, 64, 67, 0.15);\n",
              "      fill: #174EA6;\n",
              "    }\n",
              "\n",
              "    [theme=dark] .colab-df-convert {\n",
              "      background-color: #3B4455;\n",
              "      fill: #D2E3FC;\n",
              "    }\n",
              "\n",
              "    [theme=dark] .colab-df-convert:hover {\n",
              "      background-color: #434B5C;\n",
              "      box-shadow: 0px 1px 3px 1px rgba(0, 0, 0, 0.15);\n",
              "      filter: drop-shadow(0px 1px 2px rgba(0, 0, 0, 0.3));\n",
              "      fill: #FFFFFF;\n",
              "    }\n",
              "  </style>\n",
              "\n",
              "      <script>\n",
              "        const buttonEl =\n",
              "          document.querySelector('#df-73a507f7-7fde-4c7f-9649-2b3e4b7db2c5 button.colab-df-convert');\n",
              "        buttonEl.style.display =\n",
              "          google.colab.kernel.accessAllowed ? 'block' : 'none';\n",
              "\n",
              "        async function convertToInteractive(key) {\n",
              "          const element = document.querySelector('#df-73a507f7-7fde-4c7f-9649-2b3e4b7db2c5');\n",
              "          const dataTable =\n",
              "            await google.colab.kernel.invokeFunction('convertToInteractive',\n",
              "                                                     [key], {});\n",
              "          if (!dataTable) return;\n",
              "\n",
              "          const docLinkHtml = 'Like what you see? Visit the ' +\n",
              "            '<a target=\"_blank\" href=https://colab.research.google.com/notebooks/data_table.ipynb>data table notebook</a>'\n",
              "            + ' to learn more about interactive tables.';\n",
              "          element.innerHTML = '';\n",
              "          dataTable['output_type'] = 'display_data';\n",
              "          await google.colab.output.renderOutput(dataTable, element);\n",
              "          const docLink = document.createElement('div');\n",
              "          docLink.innerHTML = docLinkHtml;\n",
              "          element.appendChild(docLink);\n",
              "        }\n",
              "      </script>\n",
              "    </div>\n",
              "  </div>\n",
              "  "
            ]
          },
          "metadata": {}
        }
      ]
    },
    {
      "cell_type": "code",
      "source": [
        "def K_value(x):  \n",
        "  model = KMeans()\n",
        "  visualizer = KElbowVisualizer(model, k=(2,12), scoring='silhouette', timings=True)\n",
        "  visualizer.fit(x)        # Fit the data to the visualizer\n",
        "  visualizer.show()\n",
        "  plot = SilhouetteVisualizer(model, colors='yellowbrick')\n",
        "  plot.fit(x)        # Fit the data to the visualizer\n",
        "  plot.show()        # Finalize and render the figure\n",
        "  return visualizer.elbow_value_"
      ],
      "metadata": {
        "id": "GkcAqhP1tYPo"
      },
      "execution_count": null,
      "outputs": []
    },
    {
      "cell_type": "code",
      "source": [
        "def classification(x ,y):\n",
        "  sk=StratifiedKFold(n_splits=10,random_state=None)                            # apply stratified cross validation \n",
        "  sk.get_n_splits(x,y)\n",
        "\n",
        "  for train_index,test_index in sk.split(x,y):\n",
        "\n",
        "    \n",
        "    x1_train,x1_test=x.iloc[train_index],x.iloc[test_index]                   # splitting data into training and test data \n",
        "    y1_train,y1_test=y.iloc[train_index],y.iloc[test_index]\n",
        "    sc = StandardScaler()\n",
        "    x1_train = sc.fit_transform(x1_train)                                           #Perform scaler\n",
        "    x1_test = sc.transform(x1_test)\n",
        "  \n",
        "  k=K_value(x1_train)\n",
        "  print(\"Minimum K value obtain by elbow and silhoutte method \",k)\n",
        "  \n",
        "\n",
        "  km = KMeans(n_clusters=k)                                                # Applying K means to find number of cluster \n",
        "  km.fit(x1_train)  \n",
        "  labels = km.predict(x1_test)  \n",
        "  centroids  = km.cluster_centers_                                          # compute centroids of clusters \n",
        "  cluster=km.labels_\n",
        "\n",
        "  x1_train_new=pd.DataFrame(x1_train)\n",
        "  x1_train_new['Cluster_number'] = cluster\n",
        "  x1_train_new['label_variable']=  y1_train\n",
        "  x1_train_new.dropna(axis=0,inplace=True)\n",
        "  \n",
        "  for i in range (len(centroids)) :\n",
        "     print(\"Centroid of cluster \" + str(i)+ \" = \" +str(centroids[i,:].mean()))          #printing centroid value for each cluster\n",
        "      \n",
        "     cl= x1_train_new['label_variable'].loc[(x1_train_new['Cluster_number'] == i) ]\n",
        "     print(cl.value_counts())\n",
        "     print(\"----------------------------------------------\")\n",
        "\n",
        "  rf=RandomForestClassifier()                                                           #training random forest for minority class\n",
        "  sol= np.zeros(len(y1_test))\n",
        "  f1=[]\n",
        "  for j in range (len(centroids)):\n",
        "     min = x1_train_new.loc[(x1_train_new['Cluster_number'] == j) ]\n",
        "     min.dropna(subset=['label_variable'],inplace=True)\n",
        "\n",
        "     if min['label_variable'].nunique() > 1:\n",
        "        y1=min['label_variable']\n",
        "        x1=min.drop(['label_variable', 'Cluster_number'], axis=1)\n",
        "        rf.fit(x1,y1)                                                                  # model is fitted with training data \n",
        "\n",
        "        for k in range (len(labels)):\n",
        "          if labels[k]==j:\n",
        "            sol[k]=rf.predict(np.reshape(x1_test[k],(1,-1)))\n",
        "     \n",
        "     f1.append(f1_score(y1_test,sol))\n",
        "     print(\"------------------------------------------------\")\n",
        "  for f in range(len(f1)):\n",
        "    print(\"F1 Score on cluster \"+ str(f)+ \" is given by :\"+str(f1[f]))   \n",
        "\n",
        "  f1=np.array([f1])\n",
        "  print(\"------------------------------------------------------\")\n",
        "\n",
        "  print( \"Mean F1 Score :\")                                                         #compute means value\n",
        "  print(np.mean(f1))                                                        \n",
        "  print(\"-------------------------------------------------------\")\n",
        "  print( \"standard Deviation of F1 Score :\")\n",
        "  print(np.std(f1))                                                                # standard deviation of  scores is diplayed here\n",
        "  print(\"-------------------------------------------------------\")\n",
        "                                                         \n",
        "  result=pd.DataFrame(classification_report(y1_test, sol, output_dict=True))\n",
        "  print('--------------------------------------------------------')\n",
        "  print(result)\n",
        "  print(result.to_latex(index=True,bold_rows=True))"
      ],
      "metadata": {
        "id": "HtG50vZ1tYSv"
      },
      "execution_count": null,
      "outputs": []
    },
    {
      "cell_type": "code",
      "source": [
        "classification(x,y)"
      ],
      "metadata": {
        "colab": {
          "base_uri": "https://localhost:8080/",
          "height": 1000
        },
        "id": "9RvgK0QstYVX",
        "outputId": "de7216a8-d37f-4aa1-e3d6-da008c1e5076"
      },
      "execution_count": null,
      "outputs": [
        {
          "output_type": "display_data",
          "data": {
            "text/plain": [
              "<Figure size 576x396 with 2 Axes>"
            ],
            "image/png": "[encoded data removed]"
          },
          "metadata": {}
        },
        {
          "output_type": "display_data",
          "data": {
            "text/plain": [
              "<Figure size 576x396 with 1 Axes>"
            ],
            "image/png": "[encoded data removed]"
          },
          "metadata": {}
        },
        {
          "output_type": "stream",
          "name": "stdout",
          "text": [
            "Minimum K value obtain by elbow and silhoutte method  5\n",
            "Centroid of cluster 0 = -0.22194779975276774\n",
            "1.0    51\n",
            "0.0     7\n",
            "Name: label_variable, dtype: int64\n",
            "----------------------------------------------\n",
            "Centroid of cluster 1 = 0.06108423639334519\n",
            "0.0    57\n",
            "1.0     5\n",
            "Name: label_variable, dtype: int64\n",
            "----------------------------------------------\n",
            "Centroid of cluster 2 = -0.14059848592695479\n",
            "1.0    46\n",
            "0.0     6\n",
            "Name: label_variable, dtype: int64\n",
            "----------------------------------------------\n",
            "Centroid of cluster 3 = 0.26963586395509176\n",
            "1.0    23\n",
            "0.0    13\n",
            "Name: label_variable, dtype: int64\n",
            "----------------------------------------------\n",
            "Centroid of cluster 4 = 0.10923969786874622\n",
            "0.0    25\n",
            "1.0    24\n",
            "Name: label_variable, dtype: int64\n",
            "----------------------------------------------\n"
          ]
        },
        {
          "output_type": "stream",
          "name": "stderr",
          "text": [
            "/usr/local/lib/python3.7/dist-packages/pandas/util/_decorators.py:311: SettingWithCopyWarning: \n",
            "A value is trying to be set on a copy of a slice from a DataFrame\n",
            "\n",
            "See the caveats in the documentation: https://pandas.pydata.org/pandas-docs/stable/user_guide/indexing.html#returning-a-view-versus-a-copy\n",
            "  return func(*args, **kwargs)\n"
          ]
        },
        {
          "output_type": "stream",
          "name": "stdout",
          "text": [
            "------------------------------------------------\n"
          ]
        },
        {
          "output_type": "stream",
          "name": "stderr",
          "text": [
            "/usr/local/lib/python3.7/dist-packages/pandas/util/_decorators.py:311: SettingWithCopyWarning: \n",
            "A value is trying to be set on a copy of a slice from a DataFrame\n",
            "\n",
            "See the caveats in the documentation: https://pandas.pydata.org/pandas-docs/stable/user_guide/indexing.html#returning-a-view-versus-a-copy\n",
            "  return func(*args, **kwargs)\n"
          ]
        },
        {
          "output_type": "stream",
          "name": "stdout",
          "text": [
            "------------------------------------------------\n"
          ]
        },
        {
          "output_type": "stream",
          "name": "stderr",
          "text": [
            "/usr/local/lib/python3.7/dist-packages/pandas/util/_decorators.py:311: SettingWithCopyWarning: \n",
            "A value is trying to be set on a copy of a slice from a DataFrame\n",
            "\n",
            "See the caveats in the documentation: https://pandas.pydata.org/pandas-docs/stable/user_guide/indexing.html#returning-a-view-versus-a-copy\n",
            "  return func(*args, **kwargs)\n"
          ]
        },
        {
          "output_type": "stream",
          "name": "stdout",
          "text": [
            "------------------------------------------------\n",
            "------------------------------------------------\n"
          ]
        },
        {
          "output_type": "stream",
          "name": "stderr",
          "text": [
            "/usr/local/lib/python3.7/dist-packages/pandas/util/_decorators.py:311: SettingWithCopyWarning: \n",
            "A value is trying to be set on a copy of a slice from a DataFrame\n",
            "\n",
            "See the caveats in the documentation: https://pandas.pydata.org/pandas-docs/stable/user_guide/indexing.html#returning-a-view-versus-a-copy\n",
            "  return func(*args, **kwargs)\n",
            "/usr/local/lib/python3.7/dist-packages/pandas/util/_decorators.py:311: SettingWithCopyWarning: \n",
            "A value is trying to be set on a copy of a slice from a DataFrame\n",
            "\n",
            "See the caveats in the documentation: https://pandas.pydata.org/pandas-docs/stable/user_guide/indexing.html#returning-a-view-versus-a-copy\n",
            "  return func(*args, **kwargs)\n"
          ]
        },
        {
          "output_type": "stream",
          "name": "stdout",
          "text": [
            "------------------------------------------------\n",
            "F1 Score on cluster 0 is given by :0.47619047619047616\n",
            "F1 Score on cluster 1 is given by :0.47619047619047616\n",
            "F1 Score on cluster 2 is given by :0.7142857142857143\n",
            "F1 Score on cluster 3 is given by :0.7142857142857143\n",
            "F1 Score on cluster 4 is given by :0.8484848484848485\n",
            "------------------------------------------------------\n",
            "Mean F1 Score :\n",
            "0.645887445887446\n",
            "-------------------------------------------------------\n",
            "standard Deviation of F1 Score :\n",
            "0.1469669873322888\n",
            "-------------------------------------------------------\n",
            "--------------------------------------------------------\n",
            "                   0          1  accuracy  macro avg  weighted avg\n",
            "precision   0.846154   0.823529  0.833333   0.834842      0.834087\n",
            "recall      0.785714   0.875000  0.833333   0.830357      0.833333\n",
            "f1-score    0.814815   0.848485  0.833333   0.831650      0.832772\n",
            "support    14.000000  16.000000  0.833333  30.000000     30.000000\n",
            "\\begin{tabular}{lrrrrr}\n",
            "\\toprule\n",
            "{} &          0 &          1 &  accuracy &  macro avg &  weighted avg \\\\\n",
            "\\midrule\n",
            "\\textbf{precision} &   0.846154 &   0.823529 &  0.833333 &   0.834842 &      0.834087 \\\\\n",
            "\\textbf{recall   } &   0.785714 &   0.875000 &  0.833333 &   0.830357 &      0.833333 \\\\\n",
            "\\textbf{f1-score } &   0.814815 &   0.848485 &  0.833333 &   0.831650 &      0.832772 \\\\\n",
            "\\textbf{support  } &  14.000000 &  16.000000 &  0.833333 &  30.000000 &     30.000000 \\\\\n",
            "\\bottomrule\n",
            "\\end{tabular}\n",
            "\n"
          ]
        }
      ]
    },
    {
      "cell_type": "code",
      "source": [
        "classification(x_b,y_b)                           # classification on 65% imbalance dataset"
      ],
      "metadata": {
        "colab": {
          "base_uri": "https://localhost:8080/",
          "height": 1000
        },
        "id": "4sV7wba3t60X",
        "outputId": "da2f974f-f2c2-4a77-e963-142ce2015ea0"
      },
      "execution_count": null,
      "outputs": [
        {
          "output_type": "display_data",
          "data": {
            "text/plain": [
              "<Figure size 576x396 with 2 Axes>"
            ],
            "image/png": "[encoded data removed]"
          },
          "metadata": {}
        },
        {
          "output_type": "display_data",
          "data": {
            "text/plain": [
              "<Figure size 576x396 with 1 Axes>"
            ],
            "image/png": "[encoded data removed]"
          },
          "metadata": {}
        },
        {
          "output_type": "stream",
          "name": "stdout",
          "text": [
            "Minimum K value obtain by elbow and silhoutte method  6\n",
            "Centroid of cluster 0 = 0.1300797493933729\n",
            "0.0    14\n",
            "1.0     5\n",
            "Name: label_variable, dtype: int64\n",
            "----------------------------------------------\n",
            "Centroid of cluster 1 = 0.28925560510988485\n",
            "1.0    17\n",
            "0.0     8\n",
            "Name: label_variable, dtype: int64\n",
            "----------------------------------------------\n",
            "Centroid of cluster 2 = -0.04626279436537192\n",
            "1.0    33\n",
            "0.0     5\n",
            "Name: label_variable, dtype: int64\n",
            "----------------------------------------------\n",
            "Centroid of cluster 3 = 0.08183130121630655\n",
            "1.0    19\n",
            "0.0    16\n",
            "Name: label_variable, dtype: int64\n",
            "----------------------------------------------\n",
            "Centroid of cluster 4 = -0.18303057378551973\n",
            "1.0    60\n",
            "0.0     3\n",
            "Name: label_variable, dtype: int64\n",
            "----------------------------------------------\n",
            "Centroid of cluster 5 = 0.016143716328072898\n",
            "0.0    34\n",
            "1.0     6\n",
            "Name: label_variable, dtype: int64\n",
            "----------------------------------------------\n"
          ]
        },
        {
          "output_type": "stream",
          "name": "stderr",
          "text": [
            "/usr/local/lib/python3.7/dist-packages/pandas/util/_decorators.py:311: SettingWithCopyWarning: \n",
            "A value is trying to be set on a copy of a slice from a DataFrame\n",
            "\n",
            "See the caveats in the documentation: https://pandas.pydata.org/pandas-docs/stable/user_guide/indexing.html#returning-a-view-versus-a-copy\n",
            "  return func(*args, **kwargs)\n",
            "/usr/local/lib/python3.7/dist-packages/pandas/util/_decorators.py:311: SettingWithCopyWarning: \n",
            "A value is trying to be set on a copy of a slice from a DataFrame\n",
            "\n",
            "See the caveats in the documentation: https://pandas.pydata.org/pandas-docs/stable/user_guide/indexing.html#returning-a-view-versus-a-copy\n",
            "  return func(*args, **kwargs)\n"
          ]
        },
        {
          "output_type": "stream",
          "name": "stdout",
          "text": [
            "------------------------------------------------\n",
            "------------------------------------------------\n"
          ]
        },
        {
          "output_type": "stream",
          "name": "stderr",
          "text": [
            "/usr/local/lib/python3.7/dist-packages/pandas/util/_decorators.py:311: SettingWithCopyWarning: \n",
            "A value is trying to be set on a copy of a slice from a DataFrame\n",
            "\n",
            "See the caveats in the documentation: https://pandas.pydata.org/pandas-docs/stable/user_guide/indexing.html#returning-a-view-versus-a-copy\n",
            "  return func(*args, **kwargs)\n"
          ]
        },
        {
          "output_type": "stream",
          "name": "stdout",
          "text": [
            "------------------------------------------------\n",
            "------------------------------------------------\n"
          ]
        },
        {
          "output_type": "stream",
          "name": "stderr",
          "text": [
            "/usr/local/lib/python3.7/dist-packages/pandas/util/_decorators.py:311: SettingWithCopyWarning: \n",
            "A value is trying to be set on a copy of a slice from a DataFrame\n",
            "\n",
            "See the caveats in the documentation: https://pandas.pydata.org/pandas-docs/stable/user_guide/indexing.html#returning-a-view-versus-a-copy\n",
            "  return func(*args, **kwargs)\n",
            "/usr/local/lib/python3.7/dist-packages/pandas/util/_decorators.py:311: SettingWithCopyWarning: \n",
            "A value is trying to be set on a copy of a slice from a DataFrame\n",
            "\n",
            "See the caveats in the documentation: https://pandas.pydata.org/pandas-docs/stable/user_guide/indexing.html#returning-a-view-versus-a-copy\n",
            "  return func(*args, **kwargs)\n"
          ]
        },
        {
          "output_type": "stream",
          "name": "stdout",
          "text": [
            "------------------------------------------------\n",
            "------------------------------------------------\n",
            "F1 Score on cluster 0 is given by :0.0\n",
            "F1 Score on cluster 1 is given by :0.3636363636363636\n",
            "F1 Score on cluster 2 is given by :0.7741935483870968\n",
            "F1 Score on cluster 3 is given by :0.7500000000000001\n",
            "F1 Score on cluster 4 is given by :0.8888888888888888\n",
            "F1 Score on cluster 5 is given by :0.8888888888888888\n",
            "------------------------------------------------------\n",
            "Mean F1 Score :\n",
            "0.610934614966873\n",
            "-------------------------------------------------------\n",
            "standard Deviation of F1 Score :\n",
            "0.32529662010612204\n",
            "-------------------------------------------------------\n",
            "--------------------------------------------------------\n",
            "                  0          1  accuracy  macro avg  weighted avg\n",
            "precision  0.833333   0.842105      0.84   0.837719      0.839298\n",
            "recall     0.625000   0.941176      0.84   0.783088      0.840000\n",
            "f1-score   0.714286   0.888889      0.84   0.801587      0.833016\n",
            "support    8.000000  17.000000      0.84  25.000000     25.000000\n",
            "\\begin{tabular}{lrrrrr}\n",
            "\\toprule\n",
            "{} &         0 &          1 &  accuracy &  macro avg &  weighted avg \\\\\n",
            "\\midrule\n",
            "\\textbf{precision} &  0.833333 &   0.842105 &      0.84 &   0.837719 &      0.839298 \\\\\n",
            "\\textbf{recall   } &  0.625000 &   0.941176 &      0.84 &   0.783088 &      0.840000 \\\\\n",
            "\\textbf{f1-score } &  0.714286 &   0.888889 &      0.84 &   0.801587 &      0.833016 \\\\\n",
            "\\textbf{support  } &  8.000000 &  17.000000 &      0.84 &  25.000000 &     25.000000 \\\\\n",
            "\\bottomrule\n",
            "\\end{tabular}\n",
            "\n"
          ]
        },
        {
          "output_type": "stream",
          "name": "stderr",
          "text": [
            "/usr/local/lib/python3.7/dist-packages/pandas/util/_decorators.py:311: SettingWithCopyWarning: \n",
            "A value is trying to be set on a copy of a slice from a DataFrame\n",
            "\n",
            "See the caveats in the documentation: https://pandas.pydata.org/pandas-docs/stable/user_guide/indexing.html#returning-a-view-versus-a-copy\n",
            "  return func(*args, **kwargs)\n"
          ]
        }
      ]
    },
    {
      "cell_type": "code",
      "source": [
        "classification(x_b1,y_b1) "
      ],
      "metadata": {
        "colab": {
          "base_uri": "https://localhost:8080/",
          "height": 1000
        },
        "id": "O5fbtQystYYb",
        "outputId": "00499a4b-5377-4b79-ea45-3f83221bd6ea"
      },
      "execution_count": null,
      "outputs": [
        {
          "output_type": "display_data",
          "data": {
            "text/plain": [
              "<Figure size 576x396 with 2 Axes>"
            ],
            "image/png": "[encoded data removed]"
          },
          "metadata": {}
        },
        {
          "output_type": "display_data",
          "data": {
            "text/plain": [
              "<Figure size 576x396 with 1 Axes>"
            ],
            "image/png": "[encoded data removed]"
          },
          "metadata": {}
        },
        {
          "output_type": "stream",
          "name": "stdout",
          "text": [
            "Minimum K value obtain by elbow and silhoutte method  6\n",
            "Centroid of cluster 0 = 0.009810305274155674\n",
            "1.0    47\n",
            "0.0     8\n",
            "Name: label_variable, dtype: int64\n",
            "----------------------------------------------\n",
            "Centroid of cluster 1 = 0.08463352985402937\n",
            "0.0    26\n",
            "1.0     5\n",
            "Name: label_variable, dtype: int64\n",
            "----------------------------------------------\n",
            "Centroid of cluster 2 = 0.008148170750567008\n",
            "1.0    14\n",
            "0.0     5\n",
            "Name: label_variable, dtype: int64\n",
            "----------------------------------------------\n",
            "Centroid of cluster 3 = -0.32876717323447036\n",
            "1.0    40\n",
            "0.0     1\n",
            "Name: label_variable, dtype: int64\n",
            "----------------------------------------------\n",
            "Centroid of cluster 4 = 0.1493500065986141\n",
            "1.0    19\n",
            "0.0     7\n",
            "Name: label_variable, dtype: int64\n",
            "----------------------------------------------\n",
            "Centroid of cluster 5 = 0.3061895645986699\n",
            "1.0    18\n",
            "0.0     3\n",
            "Name: label_variable, dtype: int64\n",
            "----------------------------------------------\n"
          ]
        },
        {
          "output_type": "stream",
          "name": "stderr",
          "text": [
            "/usr/local/lib/python3.7/dist-packages/pandas/util/_decorators.py:311: SettingWithCopyWarning: \n",
            "A value is trying to be set on a copy of a slice from a DataFrame\n",
            "\n",
            "See the caveats in the documentation: https://pandas.pydata.org/pandas-docs/stable/user_guide/indexing.html#returning-a-view-versus-a-copy\n",
            "  return func(*args, **kwargs)\n",
            "/usr/local/lib/python3.7/dist-packages/pandas/util/_decorators.py:311: SettingWithCopyWarning: \n",
            "A value is trying to be set on a copy of a slice from a DataFrame\n",
            "\n",
            "See the caveats in the documentation: https://pandas.pydata.org/pandas-docs/stable/user_guide/indexing.html#returning-a-view-versus-a-copy\n",
            "  return func(*args, **kwargs)\n"
          ]
        },
        {
          "output_type": "stream",
          "name": "stdout",
          "text": [
            "------------------------------------------------\n",
            "------------------------------------------------\n"
          ]
        },
        {
          "output_type": "stream",
          "name": "stderr",
          "text": [
            "/usr/local/lib/python3.7/dist-packages/pandas/util/_decorators.py:311: SettingWithCopyWarning: \n",
            "A value is trying to be set on a copy of a slice from a DataFrame\n",
            "\n",
            "See the caveats in the documentation: https://pandas.pydata.org/pandas-docs/stable/user_guide/indexing.html#returning-a-view-versus-a-copy\n",
            "  return func(*args, **kwargs)\n",
            "/usr/local/lib/python3.7/dist-packages/pandas/util/_decorators.py:311: SettingWithCopyWarning: \n",
            "A value is trying to be set on a copy of a slice from a DataFrame\n",
            "\n",
            "See the caveats in the documentation: https://pandas.pydata.org/pandas-docs/stable/user_guide/indexing.html#returning-a-view-versus-a-copy\n",
            "  return func(*args, **kwargs)\n"
          ]
        },
        {
          "output_type": "stream",
          "name": "stdout",
          "text": [
            "------------------------------------------------\n",
            "------------------------------------------------\n"
          ]
        },
        {
          "output_type": "stream",
          "name": "stderr",
          "text": [
            "/usr/local/lib/python3.7/dist-packages/pandas/util/_decorators.py:311: SettingWithCopyWarning: \n",
            "A value is trying to be set on a copy of a slice from a DataFrame\n",
            "\n",
            "See the caveats in the documentation: https://pandas.pydata.org/pandas-docs/stable/user_guide/indexing.html#returning-a-view-versus-a-copy\n",
            "  return func(*args, **kwargs)\n",
            "/usr/local/lib/python3.7/dist-packages/pandas/util/_decorators.py:311: SettingWithCopyWarning: \n",
            "A value is trying to be set on a copy of a slice from a DataFrame\n",
            "\n",
            "See the caveats in the documentation: https://pandas.pydata.org/pandas-docs/stable/user_guide/indexing.html#returning-a-view-versus-a-copy\n",
            "  return func(*args, **kwargs)\n"
          ]
        },
        {
          "output_type": "stream",
          "name": "stdout",
          "text": [
            "------------------------------------------------\n",
            "------------------------------------------------\n",
            "F1 Score on cluster 0 is given by :0.2857142857142857\n",
            "F1 Score on cluster 1 is given by :0.2857142857142857\n",
            "F1 Score on cluster 2 is given by :0.3636363636363636\n",
            "F1 Score on cluster 3 is given by :0.7142857142857143\n",
            "F1 Score on cluster 4 is given by :0.7741935483870968\n",
            "F1 Score on cluster 5 is given by :0.9142857142857143\n",
            "------------------------------------------------------\n",
            "Mean F1 Score :\n",
            "0.5563049853372434\n",
            "-------------------------------------------------------\n",
            "standard Deviation of F1 Score :\n",
            "0.2530294416856462\n",
            "-------------------------------------------------------\n",
            "--------------------------------------------------------\n",
            "                  0          1  accuracy  macro avg  weighted avg\n",
            "precision  0.750000   0.888889  0.863636   0.819444      0.857323\n",
            "recall     0.600000   0.941176  0.863636   0.770588      0.863636\n",
            "f1-score   0.666667   0.914286  0.863636   0.790476      0.858009\n",
            "support    5.000000  17.000000  0.863636  22.000000     22.000000\n",
            "\\begin{tabular}{lrrrrr}\n",
            "\\toprule\n",
            "{} &         0 &          1 &  accuracy &  macro avg &  weighted avg \\\\\n",
            "\\midrule\n",
            "\\textbf{precision} &  0.750000 &   0.888889 &  0.863636 &   0.819444 &      0.857323 \\\\\n",
            "\\textbf{recall   } &  0.600000 &   0.941176 &  0.863636 &   0.770588 &      0.863636 \\\\\n",
            "\\textbf{f1-score } &  0.666667 &   0.914286 &  0.863636 &   0.790476 &      0.858009 \\\\\n",
            "\\textbf{support  } &  5.000000 &  17.000000 &  0.863636 &  22.000000 &     22.000000 \\\\\n",
            "\\bottomrule\n",
            "\\end{tabular}\n",
            "\n"
          ]
        }
      ]
    },
    {
      "cell_type": "code",
      "source": [
        "classification(x_b2,y_b2) "
      ],
      "metadata": {
        "colab": {
          "base_uri": "https://localhost:8080/",
          "height": 1000
        },
        "id": "nxISWyVBtYa2",
        "outputId": "66570d48-d778-4778-9d5e-f8773077fbd9"
      },
      "execution_count": null,
      "outputs": [
        {
          "output_type": "display_data",
          "data": {
            "text/plain": [
              "<Figure size 576x396 with 2 Axes>"
            ],
            "image/png": "[encoded data removed]"
          },
          "metadata": {}
        },
        {
          "output_type": "display_data",
          "data": {
            "text/plain": [
              "<Figure size 576x396 with 1 Axes>"
            ],
            "image/png": "[encoded data removed]"
          },
          "metadata": {}
        },
        {
          "output_type": "stream",
          "name": "stdout",
          "text": [
            "Minimum K value obtain by elbow and silhoutte method  6\n",
            "Centroid of cluster 0 = -0.354103953768048\n",
            "1.0    34\n",
            "Name: label_variable, dtype: int64\n",
            "----------------------------------------------\n",
            "Centroid of cluster 1 = 0.30712077734204507\n",
            "1.0    18\n",
            "0.0     1\n",
            "Name: label_variable, dtype: int64\n",
            "----------------------------------------------\n",
            "Centroid of cluster 2 = 0.08313656153233961\n",
            "1.0    15\n",
            "0.0     8\n",
            "Name: label_variable, dtype: int64\n",
            "----------------------------------------------\n",
            "Centroid of cluster 3 = 0.12294732323194632\n",
            "1.0    25\n",
            "0.0     2\n",
            "Name: label_variable, dtype: int64\n",
            "----------------------------------------------\n",
            "Centroid of cluster 4 = 0.05857342681187361\n",
            "1.0    13\n",
            "0.0     3\n",
            "Name: label_variable, dtype: int64\n",
            "----------------------------------------------\n",
            "Centroid of cluster 5 = 0.0007683953721400925\n",
            "1.0    42\n",
            "0.0     3\n",
            "Name: label_variable, dtype: int64\n",
            "----------------------------------------------\n",
            "------------------------------------------------\n"
          ]
        },
        {
          "output_type": "stream",
          "name": "stderr",
          "text": [
            "/usr/local/lib/python3.7/dist-packages/pandas/util/_decorators.py:311: SettingWithCopyWarning: \n",
            "A value is trying to be set on a copy of a slice from a DataFrame\n",
            "\n",
            "See the caveats in the documentation: https://pandas.pydata.org/pandas-docs/stable/user_guide/indexing.html#returning-a-view-versus-a-copy\n",
            "  return func(*args, **kwargs)\n",
            "/usr/local/lib/python3.7/dist-packages/pandas/util/_decorators.py:311: SettingWithCopyWarning: \n",
            "A value is trying to be set on a copy of a slice from a DataFrame\n",
            "\n",
            "See the caveats in the documentation: https://pandas.pydata.org/pandas-docs/stable/user_guide/indexing.html#returning-a-view-versus-a-copy\n",
            "  return func(*args, **kwargs)\n",
            "/usr/local/lib/python3.7/dist-packages/pandas/util/_decorators.py:311: SettingWithCopyWarning: \n",
            "A value is trying to be set on a copy of a slice from a DataFrame\n",
            "\n",
            "See the caveats in the documentation: https://pandas.pydata.org/pandas-docs/stable/user_guide/indexing.html#returning-a-view-versus-a-copy\n",
            "  return func(*args, **kwargs)\n"
          ]
        },
        {
          "output_type": "stream",
          "name": "stdout",
          "text": [
            "------------------------------------------------\n",
            "------------------------------------------------\n"
          ]
        },
        {
          "output_type": "stream",
          "name": "stderr",
          "text": [
            "/usr/local/lib/python3.7/dist-packages/pandas/util/_decorators.py:311: SettingWithCopyWarning: \n",
            "A value is trying to be set on a copy of a slice from a DataFrame\n",
            "\n",
            "See the caveats in the documentation: https://pandas.pydata.org/pandas-docs/stable/user_guide/indexing.html#returning-a-view-versus-a-copy\n",
            "  return func(*args, **kwargs)\n",
            "/usr/local/lib/python3.7/dist-packages/pandas/util/_decorators.py:311: SettingWithCopyWarning: \n",
            "A value is trying to be set on a copy of a slice from a DataFrame\n",
            "\n",
            "See the caveats in the documentation: https://pandas.pydata.org/pandas-docs/stable/user_guide/indexing.html#returning-a-view-versus-a-copy\n",
            "  return func(*args, **kwargs)\n"
          ]
        },
        {
          "output_type": "stream",
          "name": "stdout",
          "text": [
            "------------------------------------------------\n",
            "------------------------------------------------\n",
            "------------------------------------------------\n",
            "F1 Score on cluster 0 is given by :0.0\n",
            "F1 Score on cluster 1 is given by :0.38095238095238093\n",
            "F1 Score on cluster 2 is given by :0.45454545454545453\n",
            "F1 Score on cluster 3 is given by :0.6399999999999999\n",
            "F1 Score on cluster 4 is given by :0.6153846153846153\n",
            "F1 Score on cluster 5 is given by :0.7586206896551724\n",
            "------------------------------------------------------\n",
            "Mean F1 Score :\n",
            "0.4749171900896038\n",
            "-------------------------------------------------------\n",
            "standard Deviation of F1 Score :\n",
            "0.2457172622380421\n",
            "-------------------------------------------------------\n",
            "--------------------------------------------------------\n",
            "             0          1  accuracy  macro avg  weighted avg\n",
            "precision  0.0   0.916667  0.611111   0.458333      0.865741\n",
            "recall     0.0   0.647059  0.611111   0.323529      0.611111\n",
            "f1-score   0.0   0.758621  0.611111   0.379310      0.716475\n",
            "support    1.0  17.000000  0.611111  18.000000     18.000000\n",
            "\\begin{tabular}{lrrrrr}\n",
            "\\toprule\n",
            "{} &    0 &          1 &  accuracy &  macro avg &  weighted avg \\\\\n",
            "\\midrule\n",
            "\\textbf{precision} &  0.0 &   0.916667 &  0.611111 &   0.458333 &      0.865741 \\\\\n",
            "\\textbf{recall   } &  0.0 &   0.647059 &  0.611111 &   0.323529 &      0.611111 \\\\\n",
            "\\textbf{f1-score } &  0.0 &   0.758621 &  0.611111 &   0.379310 &      0.716475 \\\\\n",
            "\\textbf{support  } &  1.0 &  17.000000 &  0.611111 &  18.000000 &     18.000000 \\\\\n",
            "\\bottomrule\n",
            "\\end{tabular}\n",
            "\n"
          ]
        },
        {
          "output_type": "stream",
          "name": "stderr",
          "text": [
            "/usr/local/lib/python3.7/dist-packages/pandas/util/_decorators.py:311: SettingWithCopyWarning: \n",
            "A value is trying to be set on a copy of a slice from a DataFrame\n",
            "\n",
            "See the caveats in the documentation: https://pandas.pydata.org/pandas-docs/stable/user_guide/indexing.html#returning-a-view-versus-a-copy\n",
            "  return func(*args, **kwargs)\n"
          ]
        }
      ]
    },
    {
      "cell_type": "code",
      "source": [
        "----------------------------------------------------------------------------------------------------------------------------------------------------------------------"
      ],
      "metadata": {
        "id": "ZvNoWLXDtYdc"
      },
      "execution_count": null,
      "outputs": []
    },
    {
      "cell_type": "code",
      "source": [
        "def elbow_graph(x_b,y_b):\n",
        "  print(\"In Elbow method, where Elbow appears can be seen by the graph below:\\n\" )\n",
        "  plt.xlabel('Range of K')\n",
        "  plt.title('Elbow Method')\n",
        "  plt.ylabel('Sum of Squared Error (Inertias)')\n",
        "  k_range = range(1,10)\n",
        "  plt.plot(x_b,y_b)\n",
        "  plt.show()"
      ],
      "metadata": {
        "id": "ZOAcjG4o_g9j"
      },
      "execution_count": null,
      "outputs": []
    },
    {
      "cell_type": "code",
      "source": [
        "def elbowgraph(x):  \n",
        "  model = KMeans()\n",
        "  visualizer = KElbowVisualizer(model, k=(2,12), scoring='silhouette')\n",
        "\n",
        "  visualizer.fit(x)        # Fit the data to the visualizer\n",
        "  visualizer.show()\n",
        "  viz = SilhouetteVisualizer(model, colors='yellowbrick')\n",
        "  viz.fit(x)        # Fit the data to the visualizer\n",
        "  viz.show()        # Finalize and render the figure\n",
        "\n",
        "  return visualizer.elbow_value_"
      ],
      "metadata": {
        "id": "_-a0XvSLugUa"
      },
      "execution_count": null,
      "outputs": []
    },
    {
      "cell_type": "code",
      "source": [
        "def plotting(x,y):\n",
        "    sse = []\n",
        "    k_rng = range(1,10)\n",
        "    for k in k_rng:\n",
        "        km = KMeans(n_clusters=k)\n",
        "        a=km.fit(X1_train)\n",
        "        sse.append(km.inertia_)\n",
        "    k_range = range(1,10)\n",
        "    elbow_graph(k_range,sse)\n",
        "    K=elbowgraph(X1_train)\n",
        "    return K"
      ],
      "metadata": {
        "id": "RlESqC8v_hCE"
      },
      "execution_count": null,
      "outputs": []
    },
    {
      "cell_type": "code",
      "source": [
        "plotting(x_train,y_test)"
      ],
      "metadata": {
        "id": "VS73adHA_hEc"
      },
      "execution_count": null,
      "outputs": []
    },
    {
      "cell_type": "code",
      "source": [
        "def center(k,xtrain,xtest):\n",
        "  kmeans = KMeans(n_clusters=k)\n",
        "  kmeans.fit(xtrain)  \n",
        "  labels = kmeans.predict(xtest)  \n",
        "  centroids  = kmeans.cluster_centers_                                          # evaluating centroids of clusters \n",
        "  cluster=kmeans.labels_\n",
        "  for i in range (len(centroids)) :\n",
        "     print(\"Centroid of cluster \" + str(i)+ \" = \" +str(centroids[i,:].mean()))\n",
        "  return centroids"
      ],
      "metadata": {
        "id": "FtaVhd1z_hG_"
      },
      "execution_count": null,
      "outputs": []
    },
    {
      "cell_type": "code",
      "source": [
        "center(k,X1_train,X1_test)"
      ],
      "metadata": {
        "id": "3X6OH79vyTLd"
      },
      "execution_count": null,
      "outputs": []
    },
    {
      "cell_type": "code",
      "source": [
        "from sklearn.utils.extmath import randomized_range_finder\n",
        "from sklearn.model_selection import StratifiedKFold\n",
        "from sklearn.metrics import accuracy_score, classification_report,f1_score\n",
        "from sklearn.ensemble import RandomForestClassifier\n",
        "import numpy as np\n",
        "model=RandomForestClassifier()\n",
        "accuracy=[]\n",
        "skf=StratifiedKFold(n_splits=10,random_state=None)\n",
        "skf.get_n_splits(x_b,y_b)\n",
        "\n",
        "for train_index,test_index in skf.split(x_b,y_b):\n",
        "  X1_train,X1_test=x_b.iloc[train_index],x_b.iloc[test_index]\n",
        "  y1_train,y1_test=y_b.iloc[train_index],y_b.iloc[test_index]\n",
        "  model.fit(X1_train,y1_train)\n",
        "  prediction=model.predict(X1_test)\n",
        "  score=f1_score(prediction,y1_test)\n",
        "  accuracy.append(score)\n",
        "print(len(accuracy))\n",
        "accuracy=np.array([accuracy])\n",
        "print(accuracy)\n",
        "print(np.mean(accuracy))\n",
        "print(len(X1_train))\n",
        "print(len(X1_test))\n",
        "print(len(x_b))\n",
        "\n"
      ],
      "metadata": {
        "id": "CflbV_DJSxZ9"
      },
      "execution_count": null,
      "outputs": []
    },
    {
      "cell_type": "code",
      "source": [
        "import numpy as np\n",
        "np.array(accuracy).mean()"
      ],
      "metadata": {
        "id": "1WxbpZtL4ln-"
      },
      "execution_count": null,
      "outputs": []
    },
    {
      "cell_type": "code",
      "source": [
        "X1_train"
      ],
      "metadata": {
        "id": "14dbVQEm42rn"
      },
      "execution_count": null,
      "outputs": []
    },
    {
      "cell_type": "code",
      "source": [
        "from sklearn.cluster import KMeans\n",
        "# KM=KMeans(n_clusters=5)\n",
        "# KM.fit(X1_train,y1_train)\n",
        "# y_predict=KM.predict(X1_test)\n",
        "# y_predict"
      ],
      "metadata": {
        "id": "6I3H8cpq713e"
      },
      "execution_count": null,
      "outputs": []
    },
    {
      "cell_type": "code",
      "source": [
        "sse = []\n",
        "k_rng = range(1,10)\n",
        "for k in k_rng:\n",
        "    km = KMeans(n_clusters=k)\n",
        "    a=km.fit(X1_train)\n",
        "    sse.append(km.inertia_)\n"
      ],
      "metadata": {
        "id": "MRrWaXqWFUBX"
      },
      "execution_count": null,
      "outputs": []
    },
    {
      "cell_type": "code",
      "source": [
        "a"
      ],
      "metadata": {
        "id": "YCSsUcKD4yg4"
      },
      "execution_count": null,
      "outputs": []
    },
    {
      "cell_type": "code",
      "source": [
        "sse"
      ],
      "metadata": {
        "id": "vcs2GOB4Kbuv"
      },
      "execution_count": null,
      "outputs": []
    },
    {
      "cell_type": "code",
      "source": [
        "plt.xlabel('K')\n",
        "plt.title('Elbow Method')\n",
        "plt.ylabel('Sum of squared error')\n",
        "plt.plot(k_rng,sse)"
      ],
      "metadata": {
        "id": "cL6E5-YqKecX"
      },
      "execution_count": null,
      "outputs": []
    },
    {
      "cell_type": "code",
      "source": [
        "km.labels_"
      ],
      "metadata": {
        "id": "vGhPBrBnTn_O"
      },
      "execution_count": null,
      "outputs": []
    },
    {
      "cell_type": "code",
      "source": [
        "from sklearn.metrics import silhouette_score\n",
        "silhouette_score(X1_train, km.labels_)"
      ],
      "metadata": {
        "id": "PAeRq5kpQpzf"
      },
      "execution_count": null,
      "outputs": []
    },
    {
      "cell_type": "code",
      "source": [
        "sil_score=[]\n",
        "K_means_k=[KMeans(n_clusters=K,random_state=42).fit(X1_train) for K in range(1,10)]\n",
        "# for K in range(1,10):\n",
        "#   KM=KMeans(n_clusters=K,random_state=42)\n",
        "#   K_means_K=KM.fit(X1_train)\n",
        "\n",
        "for model in K_means_k[1:]:\n",
        "  sil_score.append(silhouette_score(X1_train,model.labels_))\n"
      ],
      "metadata": {
        "id": "OsuOkJj1ibIv"
      },
      "execution_count": null,
      "outputs": []
    },
    {
      "cell_type": "code",
      "source": [
        "sil_score"
      ],
      "metadata": {
        "id": "NjdpRytvl5rJ"
      },
      "execution_count": null,
      "outputs": []
    },
    {
      "cell_type": "code",
      "source": [
        "k_rng = range(1,9)\n",
        "plt.xlabel('K')\n",
        "plt.title('Silhouette Method')\n",
        "plt.ylabel('Silhouette Score')\n",
        "plt.plot(k_rng,sil_score)"
      ],
      "metadata": {
        "id": "Em18hsRKdkxt"
      },
      "execution_count": null,
      "outputs": []
    },
    {
      "cell_type": "code",
      "source": [
        "from sklearn.cluster import KMeans\n",
        "kmeans = KMeans(n_clusters=2)\n",
        "kmeans.fit(X1_train)   #data is of shape [1000,]\n",
        "#learn the labels and the means\n",
        "labels = kmeans.predict(X1_train)  #labels of shape [1000,] with values 0<= i <= 9\n",
        "\n",
        "centroids  = kmeans.cluster_centers_  #means of shape [10,]\n",
        "c1=centroids[0,:].mean()\n",
        "c2=centroids[1,:].mean()\n",
        "print(c1,c2)\n"
      ],
      "metadata": {
        "id": "nb8Z5XXyFnG9"
      },
      "execution_count": null,
      "outputs": []
    },
    {
      "cell_type": "code",
      "source": [
        "CLUSTER=kmeans.labels_\n",
        "print(type(CLUSTER))"
      ],
      "metadata": {
        "id": "wCfPG9sA-U_g"
      },
      "execution_count": null,
      "outputs": []
    },
    {
      "cell_type": "code",
      "source": [
        "\n",
        "df3=pd.DataFrame(X1_train)\n",
        "df3['Cluster'] = CLUSTER\n",
        "df3['label']=y1_train\n",
        "df3"
      ],
      "metadata": {
        "id": "JpkOGrsn-bpP"
      },
      "execution_count": null,
      "outputs": []
    },
    {
      "cell_type": "code",
      "source": [
        "# min=df3.where(df3['Cluster'] == 1)\n",
        "# min.dropna(axis=0)\n",
        "# min"
      ],
      "metadata": {
        "id": "JHp2pp_aCkGS"
      },
      "execution_count": null,
      "outputs": []
    },
    {
      "cell_type": "code",
      "source": [
        "Cls1=df3[df3.Cluster==1]\n",
        "\n",
        "print(Cls1['label'].value_counts())\n",
        "Cls1"
      ],
      "metadata": {
        "id": "SQdCjmQOb_r6"
      },
      "execution_count": null,
      "outputs": []
    },
    {
      "cell_type": "code",
      "source": [
        "Cls0=df3[df3.Cluster==0]\n",
        "print(Cls0['label'].value_counts())\n",
        "Cls0"
      ],
      "metadata": {
        "id": "H4lcz5WscV2J"
      },
      "execution_count": null,
      "outputs": []
    },
    {
      "cell_type": "code",
      "source": [
        "dist=[]\n",
        "df4=pd.DataFrame(X1_test)\n",
        "dist=np.linalg.norm(df4.sub(np.array(c1)), axis=1)"
      ],
      "metadata": {
        "id": "09C45K8PkOC_"
      },
      "execution_count": null,
      "outputs": []
    }
  ]
}